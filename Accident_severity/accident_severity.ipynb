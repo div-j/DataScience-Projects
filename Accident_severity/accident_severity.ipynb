{
 "cells": [
  {
   "cell_type": "markdown",
   "id": "be3bd1ab",
   "metadata": {},
   "source": [
    "## Problem Statment"
   ]
  },
  {
   "cell_type": "markdown",
   "id": "2f9b2af4",
   "metadata": {},
   "source": [
    "Using the dataset of all the accidents that occurred in 2019 in the UK which contain their variable of interest.\n",
    "Develope a machine learning Model to predict in details  the severity accidents\n",
    "(that is, whether an accident is “fatal”, “serious” or “slight” – 3 classes in total), from all the \n",
    "other features in the dataset."
   ]
  },
  {
   "cell_type": "markdown",
   "id": "befc1f11",
   "metadata": {},
   "source": [
    "This task is to answer questions related to a scenario where the UK emergency services are looking into developing a system to predict the severity of road accidents using machine learning techniques. A dataset containing information about accidents that occurred in 2019 in the UK was provided, and the aim was to categorize the accidents as \"fatal,\" \"serious,\" or \"slight\" based on various variables. The comparison of traditional machine learning algorithms with neural networks was also requested to determine if the latter offers better performance."
   ]
  },
  {
   "cell_type": "code",
   "execution_count": null,
   "id": "459e8479",
   "metadata": {},
   "outputs": [],
   "source": [
    "## Data Exploration"
   ]
  },
  {
   "cell_type": "code",
   "execution_count": 283,
   "id": "f03747d7",
   "metadata": {},
   "outputs": [],
   "source": [
    "#importing liberaries\n",
    "%matplotlib inline\n",
    "import numpy as np\n",
    "import matplotlib.pyplot as plot\n",
    "import pandas as pd\n",
    "import seaborn as sns"
   ]
  },
  {
   "cell_type": "code",
   "execution_count": 284,
   "id": "6977abbc",
   "metadata": {},
   "outputs": [
    {
     "data": {
      "text/html": [
       "<div>\n",
       "<style scoped>\n",
       "    .dataframe tbody tr th:only-of-type {\n",
       "        vertical-align: middle;\n",
       "    }\n",
       "\n",
       "    .dataframe tbody tr th {\n",
       "        vertical-align: top;\n",
       "    }\n",
       "\n",
       "    .dataframe thead th {\n",
       "        text-align: right;\n",
       "    }\n",
       "</style>\n",
       "<table border=\"1\" class=\"dataframe\">\n",
       "  <thead>\n",
       "    <tr style=\"text-align: right;\">\n",
       "      <th></th>\n",
       "      <th>accident_index</th>\n",
       "      <th>speed_limit</th>\n",
       "      <th>light_conditions</th>\n",
       "      <th>weather_conditions</th>\n",
       "      <th>road_surface_conditions</th>\n",
       "      <th>vehicle_type</th>\n",
       "      <th>junction_location</th>\n",
       "      <th>skidding_and_overturning</th>\n",
       "      <th>vehicle_leaving_carriageway</th>\n",
       "      <th>hit_object_off_carriageway</th>\n",
       "      <th>first_point_of_impact</th>\n",
       "      <th>sex_of_driver</th>\n",
       "      <th>age_of_oldest_driver</th>\n",
       "      <th>accident_severity</th>\n",
       "    </tr>\n",
       "  </thead>\n",
       "  <tbody>\n",
       "    <tr>\n",
       "      <th>0</th>\n",
       "      <td>2019010225080</td>\n",
       "      <td>30</td>\n",
       "      <td>darkness</td>\n",
       "      <td>other</td>\n",
       "      <td>wet or damp</td>\n",
       "      <td>at least one van</td>\n",
       "      <td>at or within 20 metres of junction</td>\n",
       "      <td>no skidding or overturning</td>\n",
       "      <td>none leaving carriageway</td>\n",
       "      <td>none hit an object</td>\n",
       "      <td>other points of impact</td>\n",
       "      <td>all males</td>\n",
       "      <td>63.0</td>\n",
       "      <td>serious</td>\n",
       "    </tr>\n",
       "    <tr>\n",
       "      <th>1</th>\n",
       "      <td>2019200908684</td>\n",
       "      <td>30</td>\n",
       "      <td>darkness</td>\n",
       "      <td>fine</td>\n",
       "      <td>dry</td>\n",
       "      <td>only cars</td>\n",
       "      <td>at or within 20 metres of junction</td>\n",
       "      <td>no skidding or overturning</td>\n",
       "      <td>at least one vehicle leaving carriageway</td>\n",
       "      <td>at least one vehicle hit an object</td>\n",
       "      <td>at least one vehicle with frontal impact</td>\n",
       "      <td>all males</td>\n",
       "      <td>82.0</td>\n",
       "      <td>fatal</td>\n",
       "    </tr>\n",
       "    <tr>\n",
       "      <th>2</th>\n",
       "      <td>2019040860897</td>\n",
       "      <td>40</td>\n",
       "      <td>daylight</td>\n",
       "      <td>fine</td>\n",
       "      <td>dry</td>\n",
       "      <td>only cars</td>\n",
       "      <td>at or within 20 metres of junction</td>\n",
       "      <td>no skidding or overturning</td>\n",
       "      <td>none leaving carriageway</td>\n",
       "      <td>none hit an object</td>\n",
       "      <td>at least one vehicle with frontal impact</td>\n",
       "      <td>data missing or out of range</td>\n",
       "      <td>NaN</td>\n",
       "      <td>serious</td>\n",
       "    </tr>\n",
       "    <tr>\n",
       "      <th>3</th>\n",
       "      <td>2019460847205</td>\n",
       "      <td>40</td>\n",
       "      <td>daylight</td>\n",
       "      <td>fine</td>\n",
       "      <td>dry</td>\n",
       "      <td>only cars</td>\n",
       "      <td>not at or within 20 metres of junction</td>\n",
       "      <td>no skidding or overturning</td>\n",
       "      <td>none leaving carriageway</td>\n",
       "      <td>none hit an object</td>\n",
       "      <td>at least one vehicle with frontal impact</td>\n",
       "      <td>male and female</td>\n",
       "      <td>NaN</td>\n",
       "      <td>serious</td>\n",
       "    </tr>\n",
       "    <tr>\n",
       "      <th>4</th>\n",
       "      <td>2019051911581</td>\n",
       "      <td>30</td>\n",
       "      <td>daylight</td>\n",
       "      <td>fine</td>\n",
       "      <td>dry</td>\n",
       "      <td>only cars</td>\n",
       "      <td>not at or within 20 metres of junction</td>\n",
       "      <td>no skidding or overturning</td>\n",
       "      <td>none leaving carriageway</td>\n",
       "      <td>none hit an object</td>\n",
       "      <td>at least one vehicle with frontal impact</td>\n",
       "      <td>all females</td>\n",
       "      <td>39.0</td>\n",
       "      <td>slight</td>\n",
       "    </tr>\n",
       "  </tbody>\n",
       "</table>\n",
       "</div>"
      ],
      "text/plain": [
       "  accident_index  speed_limit light_conditions weather_conditions  \\\n",
       "0  2019010225080           30         darkness              other   \n",
       "1  2019200908684           30         darkness               fine   \n",
       "2  2019040860897           40         daylight               fine   \n",
       "3  2019460847205           40         daylight               fine   \n",
       "4  2019051911581           30         daylight               fine   \n",
       "\n",
       "  road_surface_conditions      vehicle_type  \\\n",
       "0             wet or damp  at least one van   \n",
       "1                     dry         only cars   \n",
       "2                     dry         only cars   \n",
       "3                     dry         only cars   \n",
       "4                     dry         only cars   \n",
       "\n",
       "                        junction_location    skidding_and_overturning  \\\n",
       "0      at or within 20 metres of junction  no skidding or overturning   \n",
       "1      at or within 20 metres of junction  no skidding or overturning   \n",
       "2      at or within 20 metres of junction  no skidding or overturning   \n",
       "3  not at or within 20 metres of junction  no skidding or overturning   \n",
       "4  not at or within 20 metres of junction  no skidding or overturning   \n",
       "\n",
       "                vehicle_leaving_carriageway  \\\n",
       "0                  none leaving carriageway   \n",
       "1  at least one vehicle leaving carriageway   \n",
       "2                  none leaving carriageway   \n",
       "3                  none leaving carriageway   \n",
       "4                  none leaving carriageway   \n",
       "\n",
       "           hit_object_off_carriageway  \\\n",
       "0                  none hit an object   \n",
       "1  at least one vehicle hit an object   \n",
       "2                  none hit an object   \n",
       "3                  none hit an object   \n",
       "4                  none hit an object   \n",
       "\n",
       "                      first_point_of_impact                 sex_of_driver  \\\n",
       "0                    other points of impact                     all males   \n",
       "1  at least one vehicle with frontal impact                     all males   \n",
       "2  at least one vehicle with frontal impact  data missing or out of range   \n",
       "3  at least one vehicle with frontal impact               male and female   \n",
       "4  at least one vehicle with frontal impact                   all females   \n",
       "\n",
       "   age_of_oldest_driver accident_severity  \n",
       "0                  63.0           serious  \n",
       "1                  82.0             fatal  \n",
       "2                   NaN           serious  \n",
       "3                   NaN           serious  \n",
       "4                  39.0            slight  "
      ]
     },
     "execution_count": 284,
     "metadata": {},
     "output_type": "execute_result"
    }
   ],
   "source": [
    "#loading data\n",
    "\n",
    "df = pd.read_csv('OPTION1_uk_road_accident_2019_coursework_final.csv')\n",
    "df.head()"
   ]
  },
  {
   "cell_type": "code",
   "execution_count": 285,
   "id": "ed764b58",
   "metadata": {
    "scrolled": true
   },
   "outputs": [
    {
     "data": {
      "text/plain": [
       "(31647, 14)"
      ]
     },
     "execution_count": 285,
     "metadata": {},
     "output_type": "execute_result"
    }
   ],
   "source": [
    "#checking the shape of dataset\n",
    "df.shape"
   ]
  },
  {
   "cell_type": "code",
   "execution_count": 286,
   "id": "b23f62e0",
   "metadata": {
    "scrolled": false
   },
   "outputs": [
    {
     "name": "stdout",
     "output_type": "stream",
     "text": [
      "<class 'pandas.core.frame.DataFrame'>\n",
      "RangeIndex: 31647 entries, 0 to 31646\n",
      "Data columns (total 14 columns):\n",
      " #   Column                       Non-Null Count  Dtype  \n",
      "---  ------                       --------------  -----  \n",
      " 0   accident_index               31647 non-null  object \n",
      " 1   speed_limit                  31647 non-null  int64  \n",
      " 2   light_conditions             31647 non-null  object \n",
      " 3   weather_conditions           31647 non-null  object \n",
      " 4   road_surface_conditions      31647 non-null  object \n",
      " 5   vehicle_type                 31647 non-null  object \n",
      " 6   junction_location            31647 non-null  object \n",
      " 7   skidding_and_overturning     31647 non-null  object \n",
      " 8   vehicle_leaving_carriageway  31647 non-null  object \n",
      " 9   hit_object_off_carriageway   31647 non-null  object \n",
      " 10  first_point_of_impact        31647 non-null  object \n",
      " 11  sex_of_driver                31647 non-null  object \n",
      " 12  age_of_oldest_driver         25197 non-null  float64\n",
      " 13  accident_severity            30475 non-null  object \n",
      "dtypes: float64(1), int64(1), object(12)\n",
      "memory usage: 3.4+ MB\n"
     ]
    }
   ],
   "source": [
    "#understanding the type of variables of the dataset\n",
    "df.info()"
   ]
  },
  {
   "cell_type": "markdown",
   "id": "450e457b",
   "metadata": {},
   "source": [
    "From the above the dataset is of 14 columns with a toal row of 31647. speed_limit column and age_of_oldest_driver have the data type of int an float respectively while the rest of the columns are of object type"
   ]
  },
  {
   "cell_type": "markdown",
   "id": "030076ec",
   "metadata": {},
   "source": [
    "#### Droping unnecessary column"
   ]
  },
  {
   "cell_type": "markdown",
   "id": "a622dadb",
   "metadata": {},
   "source": [
    "From the columns of our dataset we will drop  accident_index column since it does not contribute to our analysis"
   ]
  },
  {
   "cell_type": "code",
   "execution_count": 287,
   "id": "185b20ef",
   "metadata": {},
   "outputs": [
    {
     "data": {
      "text/plain": [
       "(31647, 13)"
      ]
     },
     "execution_count": 287,
     "metadata": {},
     "output_type": "execute_result"
    }
   ],
   "source": [
    "df = df.drop(columns= 'accident_index')\n",
    "df.shape"
   ]
  },
  {
   "cell_type": "code",
   "execution_count": 288,
   "id": "3480a273",
   "metadata": {
    "scrolled": false
   },
   "outputs": [
    {
     "data": {
      "text/plain": [
       "speed_limit                       0\n",
       "light_conditions                  0\n",
       "weather_conditions                0\n",
       "road_surface_conditions           0\n",
       "vehicle_type                      0\n",
       "junction_location                 0\n",
       "skidding_and_overturning          0\n",
       "vehicle_leaving_carriageway       0\n",
       "hit_object_off_carriageway        0\n",
       "first_point_of_impact             0\n",
       "sex_of_driver                     0\n",
       "age_of_oldest_driver           6450\n",
       "accident_severity              1172\n",
       "dtype: int64"
      ]
     },
     "execution_count": 288,
     "metadata": {},
     "output_type": "execute_result"
    }
   ],
   "source": [
    "# checking for missing values\n",
    "df.isna().sum()"
   ]
  },
  {
   "cell_type": "markdown",
   "id": "d75c83e0",
   "metadata": {},
   "source": [
    "From the above the age_of_oldest_driver and accident_severity columns both have missing values of 6450 and 1172"
   ]
  },
  {
   "cell_type": "code",
   "execution_count": 289,
   "id": "80556e7e",
   "metadata": {
    "scrolled": true
   },
   "outputs": [
    {
     "data": {
      "text/plain": [
       "speed_limit                    0\n",
       "light_conditions               0\n",
       "weather_conditions             0\n",
       "road_surface_conditions        0\n",
       "vehicle_type                   0\n",
       "junction_location              0\n",
       "skidding_and_overturning       0\n",
       "vehicle_leaving_carriageway    0\n",
       "hit_object_off_carriageway     0\n",
       "first_point_of_impact          0\n",
       "sex_of_driver                  0\n",
       "age_of_oldest_driver           0\n",
       "accident_severity              0\n",
       "dtype: int64"
      ]
     },
     "execution_count": 289,
     "metadata": {},
     "output_type": "execute_result"
    }
   ],
   "source": [
    "#droping missing values\n",
    "df = df.dropna()\n",
    "df.isna().sum()"
   ]
  },
  {
   "cell_type": "code",
   "execution_count": 290,
   "id": "5743edb9",
   "metadata": {},
   "outputs": [
    {
     "data": {
      "text/html": [
       "<div>\n",
       "<style scoped>\n",
       "    .dataframe tbody tr th:only-of-type {\n",
       "        vertical-align: middle;\n",
       "    }\n",
       "\n",
       "    .dataframe tbody tr th {\n",
       "        vertical-align: top;\n",
       "    }\n",
       "\n",
       "    .dataframe thead th {\n",
       "        text-align: right;\n",
       "    }\n",
       "</style>\n",
       "<table border=\"1\" class=\"dataframe\">\n",
       "  <thead>\n",
       "    <tr style=\"text-align: right;\">\n",
       "      <th></th>\n",
       "      <th>speed_limit</th>\n",
       "      <th>light_conditions</th>\n",
       "      <th>weather_conditions</th>\n",
       "      <th>road_surface_conditions</th>\n",
       "      <th>vehicle_type</th>\n",
       "      <th>junction_location</th>\n",
       "      <th>skidding_and_overturning</th>\n",
       "      <th>vehicle_leaving_carriageway</th>\n",
       "      <th>hit_object_off_carriageway</th>\n",
       "      <th>first_point_of_impact</th>\n",
       "      <th>sex_of_driver</th>\n",
       "      <th>age_of_oldest_driver</th>\n",
       "      <th>accident_severity</th>\n",
       "    </tr>\n",
       "  </thead>\n",
       "  <tbody>\n",
       "    <tr>\n",
       "      <th>0</th>\n",
       "      <td>30</td>\n",
       "      <td>darkness</td>\n",
       "      <td>other</td>\n",
       "      <td>wet or damp</td>\n",
       "      <td>at least one van</td>\n",
       "      <td>at or within 20 metres of junction</td>\n",
       "      <td>no skidding or overturning</td>\n",
       "      <td>none leaving carriageway</td>\n",
       "      <td>none hit an object</td>\n",
       "      <td>other points of impact</td>\n",
       "      <td>all males</td>\n",
       "      <td>63.0</td>\n",
       "      <td>serious</td>\n",
       "    </tr>\n",
       "    <tr>\n",
       "      <th>1</th>\n",
       "      <td>30</td>\n",
       "      <td>darkness</td>\n",
       "      <td>fine</td>\n",
       "      <td>dry</td>\n",
       "      <td>only cars</td>\n",
       "      <td>at or within 20 metres of junction</td>\n",
       "      <td>no skidding or overturning</td>\n",
       "      <td>at least one vehicle leaving carriageway</td>\n",
       "      <td>at least one vehicle hit an object</td>\n",
       "      <td>at least one vehicle with frontal impact</td>\n",
       "      <td>all males</td>\n",
       "      <td>82.0</td>\n",
       "      <td>fatal</td>\n",
       "    </tr>\n",
       "    <tr>\n",
       "      <th>4</th>\n",
       "      <td>30</td>\n",
       "      <td>daylight</td>\n",
       "      <td>fine</td>\n",
       "      <td>dry</td>\n",
       "      <td>only cars</td>\n",
       "      <td>not at or within 20 metres of junction</td>\n",
       "      <td>no skidding or overturning</td>\n",
       "      <td>none leaving carriageway</td>\n",
       "      <td>none hit an object</td>\n",
       "      <td>at least one vehicle with frontal impact</td>\n",
       "      <td>all females</td>\n",
       "      <td>39.0</td>\n",
       "      <td>slight</td>\n",
       "    </tr>\n",
       "    <tr>\n",
       "      <th>6</th>\n",
       "      <td>30</td>\n",
       "      <td>darkness</td>\n",
       "      <td>fine</td>\n",
       "      <td>wet or damp</td>\n",
       "      <td>only cars</td>\n",
       "      <td>not at or within 20 metres of junction</td>\n",
       "      <td>no skidding or overturning</td>\n",
       "      <td>none leaving carriageway</td>\n",
       "      <td>none hit an object</td>\n",
       "      <td>at least one vehicle with frontal impact</td>\n",
       "      <td>all males</td>\n",
       "      <td>40.0</td>\n",
       "      <td>fatal</td>\n",
       "    </tr>\n",
       "    <tr>\n",
       "      <th>7</th>\n",
       "      <td>50</td>\n",
       "      <td>daylight</td>\n",
       "      <td>fine</td>\n",
       "      <td>dry</td>\n",
       "      <td>only cars</td>\n",
       "      <td>at or within 20 metres of junction</td>\n",
       "      <td>no skidding or overturning</td>\n",
       "      <td>none leaving carriageway</td>\n",
       "      <td>none hit an object</td>\n",
       "      <td>at least one vehicle with frontal impact</td>\n",
       "      <td>all males</td>\n",
       "      <td>57.0</td>\n",
       "      <td>slight</td>\n",
       "    </tr>\n",
       "  </tbody>\n",
       "</table>\n",
       "</div>"
      ],
      "text/plain": [
       "   speed_limit light_conditions weather_conditions road_surface_conditions  \\\n",
       "0           30         darkness              other             wet or damp   \n",
       "1           30         darkness               fine                     dry   \n",
       "4           30         daylight               fine                     dry   \n",
       "6           30         darkness               fine             wet or damp   \n",
       "7           50         daylight               fine                     dry   \n",
       "\n",
       "       vehicle_type                       junction_location  \\\n",
       "0  at least one van      at or within 20 metres of junction   \n",
       "1         only cars      at or within 20 metres of junction   \n",
       "4         only cars  not at or within 20 metres of junction   \n",
       "6         only cars  not at or within 20 metres of junction   \n",
       "7         only cars      at or within 20 metres of junction   \n",
       "\n",
       "     skidding_and_overturning               vehicle_leaving_carriageway  \\\n",
       "0  no skidding or overturning                  none leaving carriageway   \n",
       "1  no skidding or overturning  at least one vehicle leaving carriageway   \n",
       "4  no skidding or overturning                  none leaving carriageway   \n",
       "6  no skidding or overturning                  none leaving carriageway   \n",
       "7  no skidding or overturning                  none leaving carriageway   \n",
       "\n",
       "           hit_object_off_carriageway  \\\n",
       "0                  none hit an object   \n",
       "1  at least one vehicle hit an object   \n",
       "4                  none hit an object   \n",
       "6                  none hit an object   \n",
       "7                  none hit an object   \n",
       "\n",
       "                      first_point_of_impact sex_of_driver  \\\n",
       "0                    other points of impact     all males   \n",
       "1  at least one vehicle with frontal impact     all males   \n",
       "4  at least one vehicle with frontal impact   all females   \n",
       "6  at least one vehicle with frontal impact     all males   \n",
       "7  at least one vehicle with frontal impact     all males   \n",
       "\n",
       "   age_of_oldest_driver accident_severity  \n",
       "0                  63.0           serious  \n",
       "1                  82.0             fatal  \n",
       "4                  39.0            slight  \n",
       "6                  40.0             fatal  \n",
       "7                  57.0            slight  "
      ]
     },
     "execution_count": 290,
     "metadata": {},
     "output_type": "execute_result"
    }
   ],
   "source": [
    "#dropping rows with the string \"data missing or out of range\"\n",
    "df = df.drop(df[df.eq('data missing or out of range').any(1)].index)\n",
    "df.head()"
   ]
  },
  {
   "cell_type": "code",
   "execution_count": 291,
   "id": "d9644ee5",
   "metadata": {
    "scrolled": true
   },
   "outputs": [
    {
     "data": {
      "text/html": [
       "<div>\n",
       "<style scoped>\n",
       "    .dataframe tbody tr th:only-of-type {\n",
       "        vertical-align: middle;\n",
       "    }\n",
       "\n",
       "    .dataframe tbody tr th {\n",
       "        vertical-align: top;\n",
       "    }\n",
       "\n",
       "    .dataframe thead th {\n",
       "        text-align: right;\n",
       "    }\n",
       "</style>\n",
       "<table border=\"1\" class=\"dataframe\">\n",
       "  <thead>\n",
       "    <tr style=\"text-align: right;\">\n",
       "      <th></th>\n",
       "      <th>speed_limit</th>\n",
       "      <th>age_of_oldest_driver</th>\n",
       "    </tr>\n",
       "  </thead>\n",
       "  <tbody>\n",
       "    <tr>\n",
       "      <th>count</th>\n",
       "      <td>22847.000000</td>\n",
       "      <td>22847.000000</td>\n",
       "    </tr>\n",
       "    <tr>\n",
       "      <th>mean</th>\n",
       "      <td>38.176828</td>\n",
       "      <td>47.458966</td>\n",
       "    </tr>\n",
       "    <tr>\n",
       "      <th>std</th>\n",
       "      <td>14.374650</td>\n",
       "      <td>16.877233</td>\n",
       "    </tr>\n",
       "    <tr>\n",
       "      <th>min</th>\n",
       "      <td>-1.000000</td>\n",
       "      <td>6.000000</td>\n",
       "    </tr>\n",
       "    <tr>\n",
       "      <th>25%</th>\n",
       "      <td>30.000000</td>\n",
       "      <td>34.000000</td>\n",
       "    </tr>\n",
       "    <tr>\n",
       "      <th>50%</th>\n",
       "      <td>30.000000</td>\n",
       "      <td>47.000000</td>\n",
       "    </tr>\n",
       "    <tr>\n",
       "      <th>75%</th>\n",
       "      <td>50.000000</td>\n",
       "      <td>59.000000</td>\n",
       "    </tr>\n",
       "    <tr>\n",
       "      <th>max</th>\n",
       "      <td>70.000000</td>\n",
       "      <td>101.000000</td>\n",
       "    </tr>\n",
       "  </tbody>\n",
       "</table>\n",
       "</div>"
      ],
      "text/plain": [
       "        speed_limit  age_of_oldest_driver\n",
       "count  22847.000000          22847.000000\n",
       "mean      38.176828             47.458966\n",
       "std       14.374650             16.877233\n",
       "min       -1.000000              6.000000\n",
       "25%       30.000000             34.000000\n",
       "50%       30.000000             47.000000\n",
       "75%       50.000000             59.000000\n",
       "max       70.000000            101.000000"
      ]
     },
     "execution_count": 291,
     "metadata": {},
     "output_type": "execute_result"
    }
   ],
   "source": [
    "#Taking the statistics summary of our dataset\n",
    "df.describe()"
   ]
  },
  {
   "cell_type": "code",
   "execution_count": null,
   "id": "93f5fe05",
   "metadata": {},
   "outputs": [],
   "source": []
  },
  {
   "cell_type": "markdown",
   "id": "665614d7",
   "metadata": {},
   "source": [
    "The table above give us a summary of the data, including the mean and standard deviation of numerical features"
   ]
  },
  {
   "cell_type": "code",
   "execution_count": 292,
   "id": "3a2d1ec5",
   "metadata": {
    "scrolled": true
   },
   "outputs": [
    {
     "data": {
      "text/plain": [
       "array(['serious', 'fatal', 'slight', 'Serious', 'Slight', 'Fatal'],\n",
       "      dtype=object)"
      ]
     },
     "execution_count": 292,
     "metadata": {},
     "output_type": "execute_result"
    }
   ],
   "source": [
    "# investigating the dependent variable\n",
    "df['accident_severity'].unique()"
   ]
  },
  {
   "cell_type": "code",
   "execution_count": 293,
   "id": "e4a67a3d",
   "metadata": {},
   "outputs": [],
   "source": [
    "#Fixing anomalies in the target variable\n",
    "df['accident_severity']=df['accident_severity'].str.lower()"
   ]
  },
  {
   "cell_type": "markdown",
   "id": "842b5cbe",
   "metadata": {},
   "source": [
    "#### Checking for the distribution of the target variable with an horizontal bar chat"
   ]
  },
  {
   "cell_type": "code",
   "execution_count": 294,
   "id": "0b3f8b13",
   "metadata": {
    "scrolled": true
   },
   "outputs": [
    {
     "data": {
      "text/plain": [
       "Text(0.5, 1.0, 'Distribution of Target Labels')"
      ]
     },
     "execution_count": 294,
     "metadata": {},
     "output_type": "execute_result"
    },
    {
     "data": {
      "image/png": "[encoded data removed]",
      "text/plain": [
       "<Figure size 720x360 with 1 Axes>"
      ]
     },
     "metadata": {
      "needs_background": "light"
     },
     "output_type": "display_data"
    }
   ],
   "source": [
    "#counting the target variable\n",
    "label_counts =df['accident_severity'].value_counts()\n",
    "\n",
    "# plot a bar chart of the label counts\n",
    "label_counts.plot(kind='barh', figsize=(10, 5), color='red')\n",
    "\n",
    "# set the labels and title\n",
    "plot.xlabel('Count')\n",
    "plot.ylabel('Label')\n",
    "plot.title('Distribution of Target Labels')"
   ]
  },
  {
   "cell_type": "markdown",
   "id": "028edf9a",
   "metadata": {},
   "source": [
    "The above bar chart gives a visual representation of the distribution of the target labels in the dataset. It shows that the majority of accidents in the dataset were classified as \"slight\", followed by \"serious\" and \"fatal\". "
   ]
  },
  {
   "cell_type": "markdown",
   "id": "963e4a32",
   "metadata": {},
   "source": [
    "## Data preprocessing"
   ]
  },
  {
   "cell_type": "markdown",
   "id": "1a8561c5",
   "metadata": {},
   "source": [
    "splitting our dataset to dependent and independent variable"
   ]
  },
  {
   "cell_type": "code",
   "execution_count": 295,
   "id": "a6a88341",
   "metadata": {},
   "outputs": [],
   "source": [
    "#independent variable\n",
    "x_col = ['speed_limit', 'light_conditions', 'weather_conditions',\n",
    "       'road_surface_conditions', 'vehicle_type', 'junction_location',\n",
    "       'skidding_and_overturning', 'vehicle_leaving_carriageway',\n",
    "       'hit_object_off_carriageway', 'first_point_of_impact', 'sex_of_driver',\n",
    "       'age_of_oldest_driver']\n",
    "x = df[x_col]\n",
    "#dependent variable\n",
    "y_col = 'accident_severity'\n",
    "y = df[y_col]"
   ]
  },
  {
   "cell_type": "code",
   "execution_count": 296,
   "id": "78c6221a",
   "metadata": {},
   "outputs": [
    {
     "data": {
      "text/plain": [
       "speed_limit                     7\n",
       "light_conditions                2\n",
       "weather_conditions              3\n",
       "road_surface_conditions         4\n",
       "vehicle_type                    5\n",
       "junction_location               2\n",
       "skidding_and_overturning        2\n",
       "vehicle_leaving_carriageway     2\n",
       "hit_object_off_carriageway      2\n",
       "first_point_of_impact           3\n",
       "sex_of_driver                   3\n",
       "age_of_oldest_driver           92\n",
       "accident_severity               3\n",
       "dtype: int64"
      ]
     },
     "execution_count": 296,
     "metadata": {},
     "output_type": "execute_result"
    }
   ],
   "source": [
    "#getting the number of unique values in each column\n",
    "df.nunique()"
   ]
  },
  {
   "cell_type": "code",
   "execution_count": null,
   "id": "eb179f87",
   "metadata": {},
   "outputs": [],
   "source": []
  },
  {
   "cell_type": "markdown",
   "id": "c8403904",
   "metadata": {},
   "source": [
    "### Label encoding and Hot encoding"
   ]
  },
  {
   "cell_type": "code",
   "execution_count": 297,
   "id": "9556ecfb",
   "metadata": {},
   "outputs": [],
   "source": [
    "#importing libary\n",
    "\n",
    "from sklearn.preprocessing import LabelEncoder"
   ]
  },
  {
   "cell_type": "code",
   "execution_count": 298,
   "id": "ec10ddae",
   "metadata": {},
   "outputs": [],
   "source": [
    "#label encoding columns\n",
    "lbc= ['light_conditions', 'skidding_and_overturning', 'vehicle_leaving_carriageway', 'hit_object_off_carriageway','junction_location']\n"
   ]
  },
  {
   "cell_type": "code",
   "execution_count": 299,
   "id": "3905bbe6",
   "metadata": {},
   "outputs": [],
   "source": [
    "#hot encoding encoding columns\n",
    "ohc= ['weather_conditions', 'sex_of_driver','vehicle_type','road_surface_conditions','first_point_of_impact' ]"
   ]
  },
  {
   "cell_type": "markdown",
   "id": "e53c680a",
   "metadata": {},
   "source": [
    "#### label encoding"
   ]
  },
  {
   "cell_type": "code",
   "execution_count": 300,
   "id": "d6f927df",
   "metadata": {},
   "outputs": [
    {
     "name": "stderr",
     "output_type": "stream",
     "text": [
      "C:\\Users\\hp\\AppData\\Local\\Temp\\ipykernel_8752\\1229744796.py:3: SettingWithCopyWarning: \n",
      "A value is trying to be set on a copy of a slice from a DataFrame.\n",
      "Try using .loc[row_indexer,col_indexer] = value instead\n",
      "\n",
      "See the caveats in the documentation: https://pandas.pydata.org/pandas-docs/stable/user_guide/indexing.html#returning-a-view-versus-a-copy\n",
      "  x.loc[:,lbc] = x.loc[:,lbc].apply(labelencoder.fit_transform)\n"
     ]
    }
   ],
   "source": [
    "labelencoder = LabelEncoder()\n",
    "#label encoding independent variable\n",
    "x.loc[:,lbc] = x.loc[:,lbc].apply(labelencoder.fit_transform)\n"
   ]
  },
  {
   "cell_type": "markdown",
   "id": "d3aa6174",
   "metadata": {
    "scrolled": false
   },
   "source": [
    "#### one-hot encoding"
   ]
  },
  {
   "cell_type": "code",
   "execution_count": 301,
   "id": "66cc0837",
   "metadata": {
    "scrolled": true
   },
   "outputs": [
    {
     "data": {
      "text/html": [
       "<div>\n",
       "<style scoped>\n",
       "    .dataframe tbody tr th:only-of-type {\n",
       "        vertical-align: middle;\n",
       "    }\n",
       "\n",
       "    .dataframe tbody tr th {\n",
       "        vertical-align: top;\n",
       "    }\n",
       "\n",
       "    .dataframe thead th {\n",
       "        text-align: right;\n",
       "    }\n",
       "</style>\n",
       "<table border=\"1\" class=\"dataframe\">\n",
       "  <thead>\n",
       "    <tr style=\"text-align: right;\">\n",
       "      <th></th>\n",
       "      <th>speed_limit</th>\n",
       "      <th>light_conditions</th>\n",
       "      <th>junction_location</th>\n",
       "      <th>skidding_and_overturning</th>\n",
       "      <th>vehicle_leaving_carriageway</th>\n",
       "      <th>hit_object_off_carriageway</th>\n",
       "      <th>age_of_oldest_driver</th>\n",
       "      <th>weather_conditions_fog or mist</th>\n",
       "      <th>weather_conditions_other</th>\n",
       "      <th>sex_of_driver_all males</th>\n",
       "      <th>sex_of_driver_male and female</th>\n",
       "      <th>vehicle_type_at least one van</th>\n",
       "      <th>vehicle_type_biped and van</th>\n",
       "      <th>vehicle_type_only cars</th>\n",
       "      <th>vehicle_type_other</th>\n",
       "      <th>road_surface_conditions_flood over 3cm. deep</th>\n",
       "      <th>road_surface_conditions_other</th>\n",
       "      <th>road_surface_conditions_wet or damp</th>\n",
       "      <th>first_point_of_impact_no impact</th>\n",
       "      <th>first_point_of_impact_other points of impact</th>\n",
       "    </tr>\n",
       "  </thead>\n",
       "  <tbody>\n",
       "    <tr>\n",
       "      <th>0</th>\n",
       "      <td>30</td>\n",
       "      <td>0</td>\n",
       "      <td>0</td>\n",
       "      <td>1</td>\n",
       "      <td>1</td>\n",
       "      <td>1</td>\n",
       "      <td>63.0</td>\n",
       "      <td>0</td>\n",
       "      <td>1</td>\n",
       "      <td>1</td>\n",
       "      <td>0</td>\n",
       "      <td>1</td>\n",
       "      <td>0</td>\n",
       "      <td>0</td>\n",
       "      <td>0</td>\n",
       "      <td>0</td>\n",
       "      <td>0</td>\n",
       "      <td>1</td>\n",
       "      <td>0</td>\n",
       "      <td>1</td>\n",
       "    </tr>\n",
       "    <tr>\n",
       "      <th>1</th>\n",
       "      <td>30</td>\n",
       "      <td>0</td>\n",
       "      <td>0</td>\n",
       "      <td>1</td>\n",
       "      <td>0</td>\n",
       "      <td>0</td>\n",
       "      <td>82.0</td>\n",
       "      <td>0</td>\n",
       "      <td>0</td>\n",
       "      <td>1</td>\n",
       "      <td>0</td>\n",
       "      <td>0</td>\n",
       "      <td>0</td>\n",
       "      <td>1</td>\n",
       "      <td>0</td>\n",
       "      <td>0</td>\n",
       "      <td>0</td>\n",
       "      <td>0</td>\n",
       "      <td>0</td>\n",
       "      <td>0</td>\n",
       "    </tr>\n",
       "    <tr>\n",
       "      <th>4</th>\n",
       "      <td>30</td>\n",
       "      <td>1</td>\n",
       "      <td>1</td>\n",
       "      <td>1</td>\n",
       "      <td>1</td>\n",
       "      <td>1</td>\n",
       "      <td>39.0</td>\n",
       "      <td>0</td>\n",
       "      <td>0</td>\n",
       "      <td>0</td>\n",
       "      <td>0</td>\n",
       "      <td>0</td>\n",
       "      <td>0</td>\n",
       "      <td>1</td>\n",
       "      <td>0</td>\n",
       "      <td>0</td>\n",
       "      <td>0</td>\n",
       "      <td>0</td>\n",
       "      <td>0</td>\n",
       "      <td>0</td>\n",
       "    </tr>\n",
       "    <tr>\n",
       "      <th>6</th>\n",
       "      <td>30</td>\n",
       "      <td>0</td>\n",
       "      <td>1</td>\n",
       "      <td>1</td>\n",
       "      <td>1</td>\n",
       "      <td>1</td>\n",
       "      <td>40.0</td>\n",
       "      <td>0</td>\n",
       "      <td>0</td>\n",
       "      <td>1</td>\n",
       "      <td>0</td>\n",
       "      <td>0</td>\n",
       "      <td>0</td>\n",
       "      <td>1</td>\n",
       "      <td>0</td>\n",
       "      <td>0</td>\n",
       "      <td>0</td>\n",
       "      <td>1</td>\n",
       "      <td>0</td>\n",
       "      <td>0</td>\n",
       "    </tr>\n",
       "    <tr>\n",
       "      <th>7</th>\n",
       "      <td>50</td>\n",
       "      <td>1</td>\n",
       "      <td>0</td>\n",
       "      <td>1</td>\n",
       "      <td>1</td>\n",
       "      <td>1</td>\n",
       "      <td>57.0</td>\n",
       "      <td>0</td>\n",
       "      <td>0</td>\n",
       "      <td>1</td>\n",
       "      <td>0</td>\n",
       "      <td>0</td>\n",
       "      <td>0</td>\n",
       "      <td>1</td>\n",
       "      <td>0</td>\n",
       "      <td>0</td>\n",
       "      <td>0</td>\n",
       "      <td>0</td>\n",
       "      <td>0</td>\n",
       "      <td>0</td>\n",
       "    </tr>\n",
       "    <tr>\n",
       "      <th>...</th>\n",
       "      <td>...</td>\n",
       "      <td>...</td>\n",
       "      <td>...</td>\n",
       "      <td>...</td>\n",
       "      <td>...</td>\n",
       "      <td>...</td>\n",
       "      <td>...</td>\n",
       "      <td>...</td>\n",
       "      <td>...</td>\n",
       "      <td>...</td>\n",
       "      <td>...</td>\n",
       "      <td>...</td>\n",
       "      <td>...</td>\n",
       "      <td>...</td>\n",
       "      <td>...</td>\n",
       "      <td>...</td>\n",
       "      <td>...</td>\n",
       "      <td>...</td>\n",
       "      <td>...</td>\n",
       "      <td>...</td>\n",
       "    </tr>\n",
       "    <tr>\n",
       "      <th>31641</th>\n",
       "      <td>40</td>\n",
       "      <td>0</td>\n",
       "      <td>0</td>\n",
       "      <td>0</td>\n",
       "      <td>1</td>\n",
       "      <td>1</td>\n",
       "      <td>82.0</td>\n",
       "      <td>0</td>\n",
       "      <td>0</td>\n",
       "      <td>0</td>\n",
       "      <td>1</td>\n",
       "      <td>0</td>\n",
       "      <td>0</td>\n",
       "      <td>1</td>\n",
       "      <td>0</td>\n",
       "      <td>0</td>\n",
       "      <td>0</td>\n",
       "      <td>0</td>\n",
       "      <td>0</td>\n",
       "      <td>0</td>\n",
       "    </tr>\n",
       "    <tr>\n",
       "      <th>31642</th>\n",
       "      <td>30</td>\n",
       "      <td>0</td>\n",
       "      <td>1</td>\n",
       "      <td>1</td>\n",
       "      <td>1</td>\n",
       "      <td>1</td>\n",
       "      <td>27.0</td>\n",
       "      <td>0</td>\n",
       "      <td>0</td>\n",
       "      <td>1</td>\n",
       "      <td>0</td>\n",
       "      <td>0</td>\n",
       "      <td>0</td>\n",
       "      <td>0</td>\n",
       "      <td>0</td>\n",
       "      <td>0</td>\n",
       "      <td>0</td>\n",
       "      <td>1</td>\n",
       "      <td>0</td>\n",
       "      <td>0</td>\n",
       "    </tr>\n",
       "    <tr>\n",
       "      <th>31643</th>\n",
       "      <td>60</td>\n",
       "      <td>1</td>\n",
       "      <td>0</td>\n",
       "      <td>0</td>\n",
       "      <td>1</td>\n",
       "      <td>1</td>\n",
       "      <td>27.0</td>\n",
       "      <td>0</td>\n",
       "      <td>0</td>\n",
       "      <td>1</td>\n",
       "      <td>0</td>\n",
       "      <td>0</td>\n",
       "      <td>0</td>\n",
       "      <td>0</td>\n",
       "      <td>1</td>\n",
       "      <td>0</td>\n",
       "      <td>0</td>\n",
       "      <td>0</td>\n",
       "      <td>0</td>\n",
       "      <td>1</td>\n",
       "    </tr>\n",
       "    <tr>\n",
       "      <th>31644</th>\n",
       "      <td>70</td>\n",
       "      <td>1</td>\n",
       "      <td>1</td>\n",
       "      <td>1</td>\n",
       "      <td>1</td>\n",
       "      <td>1</td>\n",
       "      <td>67.0</td>\n",
       "      <td>0</td>\n",
       "      <td>0</td>\n",
       "      <td>1</td>\n",
       "      <td>0</td>\n",
       "      <td>1</td>\n",
       "      <td>0</td>\n",
       "      <td>0</td>\n",
       "      <td>0</td>\n",
       "      <td>0</td>\n",
       "      <td>0</td>\n",
       "      <td>0</td>\n",
       "      <td>0</td>\n",
       "      <td>0</td>\n",
       "    </tr>\n",
       "    <tr>\n",
       "      <th>31645</th>\n",
       "      <td>30</td>\n",
       "      <td>0</td>\n",
       "      <td>1</td>\n",
       "      <td>1</td>\n",
       "      <td>1</td>\n",
       "      <td>1</td>\n",
       "      <td>24.0</td>\n",
       "      <td>0</td>\n",
       "      <td>0</td>\n",
       "      <td>1</td>\n",
       "      <td>0</td>\n",
       "      <td>0</td>\n",
       "      <td>0</td>\n",
       "      <td>1</td>\n",
       "      <td>0</td>\n",
       "      <td>0</td>\n",
       "      <td>0</td>\n",
       "      <td>1</td>\n",
       "      <td>0</td>\n",
       "      <td>1</td>\n",
       "    </tr>\n",
       "  </tbody>\n",
       "</table>\n",
       "<p>22847 rows × 20 columns</p>\n",
       "</div>"
      ],
      "text/plain": [
       "       speed_limit  light_conditions  junction_location  \\\n",
       "0               30                 0                  0   \n",
       "1               30                 0                  0   \n",
       "4               30                 1                  1   \n",
       "6               30                 0                  1   \n",
       "7               50                 1                  0   \n",
       "...            ...               ...                ...   \n",
       "31641           40                 0                  0   \n",
       "31642           30                 0                  1   \n",
       "31643           60                 1                  0   \n",
       "31644           70                 1                  1   \n",
       "31645           30                 0                  1   \n",
       "\n",
       "       skidding_and_overturning  vehicle_leaving_carriageway  \\\n",
       "0                             1                            1   \n",
       "1                             1                            0   \n",
       "4                             1                            1   \n",
       "6                             1                            1   \n",
       "7                             1                            1   \n",
       "...                         ...                          ...   \n",
       "31641                         0                            1   \n",
       "31642                         1                            1   \n",
       "31643                         0                            1   \n",
       "31644                         1                            1   \n",
       "31645                         1                            1   \n",
       "\n",
       "       hit_object_off_carriageway  age_of_oldest_driver  \\\n",
       "0                               1                  63.0   \n",
       "1                               0                  82.0   \n",
       "4                               1                  39.0   \n",
       "6                               1                  40.0   \n",
       "7                               1                  57.0   \n",
       "...                           ...                   ...   \n",
       "31641                           1                  82.0   \n",
       "31642                           1                  27.0   \n",
       "31643                           1                  27.0   \n",
       "31644                           1                  67.0   \n",
       "31645                           1                  24.0   \n",
       "\n",
       "       weather_conditions_fog or mist  weather_conditions_other  \\\n",
       "0                                   0                         1   \n",
       "1                                   0                         0   \n",
       "4                                   0                         0   \n",
       "6                                   0                         0   \n",
       "7                                   0                         0   \n",
       "...                               ...                       ...   \n",
       "31641                               0                         0   \n",
       "31642                               0                         0   \n",
       "31643                               0                         0   \n",
       "31644                               0                         0   \n",
       "31645                               0                         0   \n",
       "\n",
       "       sex_of_driver_all males  sex_of_driver_male and female  \\\n",
       "0                            1                              0   \n",
       "1                            1                              0   \n",
       "4                            0                              0   \n",
       "6                            1                              0   \n",
       "7                            1                              0   \n",
       "...                        ...                            ...   \n",
       "31641                        0                              1   \n",
       "31642                        1                              0   \n",
       "31643                        1                              0   \n",
       "31644                        1                              0   \n",
       "31645                        1                              0   \n",
       "\n",
       "       vehicle_type_at least one van  vehicle_type_biped and van  \\\n",
       "0                                  1                           0   \n",
       "1                                  0                           0   \n",
       "4                                  0                           0   \n",
       "6                                  0                           0   \n",
       "7                                  0                           0   \n",
       "...                              ...                         ...   \n",
       "31641                              0                           0   \n",
       "31642                              0                           0   \n",
       "31643                              0                           0   \n",
       "31644                              1                           0   \n",
       "31645                              0                           0   \n",
       "\n",
       "       vehicle_type_only cars  vehicle_type_other  \\\n",
       "0                           0                   0   \n",
       "1                           1                   0   \n",
       "4                           1                   0   \n",
       "6                           1                   0   \n",
       "7                           1                   0   \n",
       "...                       ...                 ...   \n",
       "31641                       1                   0   \n",
       "31642                       0                   0   \n",
       "31643                       0                   1   \n",
       "31644                       0                   0   \n",
       "31645                       1                   0   \n",
       "\n",
       "       road_surface_conditions_flood over 3cm. deep  \\\n",
       "0                                                 0   \n",
       "1                                                 0   \n",
       "4                                                 0   \n",
       "6                                                 0   \n",
       "7                                                 0   \n",
       "...                                             ...   \n",
       "31641                                             0   \n",
       "31642                                             0   \n",
       "31643                                             0   \n",
       "31644                                             0   \n",
       "31645                                             0   \n",
       "\n",
       "       road_surface_conditions_other  road_surface_conditions_wet or damp  \\\n",
       "0                                  0                                    1   \n",
       "1                                  0                                    0   \n",
       "4                                  0                                    0   \n",
       "6                                  0                                    1   \n",
       "7                                  0                                    0   \n",
       "...                              ...                                  ...   \n",
       "31641                              0                                    0   \n",
       "31642                              0                                    1   \n",
       "31643                              0                                    0   \n",
       "31644                              0                                    0   \n",
       "31645                              0                                    1   \n",
       "\n",
       "       first_point_of_impact_no impact  \\\n",
       "0                                    0   \n",
       "1                                    0   \n",
       "4                                    0   \n",
       "6                                    0   \n",
       "7                                    0   \n",
       "...                                ...   \n",
       "31641                                0   \n",
       "31642                                0   \n",
       "31643                                0   \n",
       "31644                                0   \n",
       "31645                                0   \n",
       "\n",
       "       first_point_of_impact_other points of impact  \n",
       "0                                                 1  \n",
       "1                                                 0  \n",
       "4                                                 0  \n",
       "6                                                 0  \n",
       "7                                                 0  \n",
       "...                                             ...  \n",
       "31641                                             0  \n",
       "31642                                             0  \n",
       "31643                                             1  \n",
       "31644                                             0  \n",
       "31645                                             1  \n",
       "\n",
       "[22847 rows x 20 columns]"
      ]
     },
     "execution_count": 301,
     "metadata": {},
     "output_type": "execute_result"
    }
   ],
   "source": [
    "x= pd.get_dummies(x, columns=ohc, drop_first=True)\n",
    "x"
   ]
  },
  {
   "cell_type": "markdown",
   "id": "7b3e2700",
   "metadata": {},
   "source": [
    "### Feature Scaling"
   ]
  },
  {
   "cell_type": "markdown",
   "id": "fcb68e3e",
   "metadata": {},
   "source": [
    "Since our dataset are not set to a specific range we have to perform a feature scalling to make all values be at a specific range"
   ]
  },
  {
   "cell_type": "code",
   "execution_count": 302,
   "id": "c86a755c",
   "metadata": {},
   "outputs": [],
   "source": [
    "#loading the StandardScaler module\n",
    "from sklearn.preprocessing import StandardScaler"
   ]
  },
  {
   "cell_type": "code",
   "execution_count": 303,
   "id": "00e6b235",
   "metadata": {},
   "outputs": [],
   "source": [
    "sc = StandardScaler()\n",
    "x = sc.fit_transform(x)"
   ]
  },
  {
   "cell_type": "code",
   "execution_count": 304,
   "id": "d4d20b4e",
   "metadata": {
    "scrolled": true
   },
   "outputs": [
    {
     "data": {
      "text/plain": [
       "(22847, 20)"
      ]
     },
     "execution_count": 304,
     "metadata": {},
     "output_type": "execute_result"
    }
   ],
   "source": [
    "x.shape\n"
   ]
  },
  {
   "cell_type": "markdown",
   "id": "d53d1d9c",
   "metadata": {},
   "source": [
    "#### Dimensional reduction\n",
    "Since the dataset is of sparse matrix type and to reduce the dimension of this dataset we will employ TruncatedSVD which is a popular technique for sparse data"
   ]
  },
  {
   "cell_type": "code",
   "execution_count": 305,
   "id": "7805bf53",
   "metadata": {
    "scrolled": true
   },
   "outputs": [
    {
     "data": {
      "image/png": "[encoded data removed]",
      "text/plain": [
       "<Figure size 720x360 with 1 Axes>"
      ]
     },
     "metadata": {
      "needs_background": "light"
     },
     "output_type": "display_data"
    }
   ],
   "source": [
    "#importing TruncatedSVD module\n",
    "from sklearn.decomposition import PCA\n",
    "\n",
    "#setting dimension to 2\n",
    "pca = PCA(n_components=2)\n",
    "x_pca = pca.fit_transform(x)\n",
    "\n",
    "plot.figure(figsize=(10, 5))\n",
    "labels =y.astype('category')\n",
    "plot.scatter(x_pca[:,0], x_pca[:,1], c=labels.cat.codes, cmap='Accent',)\n",
    "plot.xlabel('Dimension 1')\n",
    "plot.ylabel('Dimension 2')\n",
    "\n",
    "plot.title('2D Dataset Visualization')\n",
    "plot.show()"
   ]
  },
  {
   "cell_type": "markdown",
   "id": "d8fd454a",
   "metadata": {},
   "source": [
    "The above pca plot gives us an overview of the accidents severity"
   ]
  },
  {
   "cell_type": "markdown",
   "id": "b1375f5e",
   "metadata": {},
   "source": [
    "### Spliting and traning dataset"
   ]
  },
  {
   "cell_type": "code",
   "execution_count": 306,
   "id": "40f3b386",
   "metadata": {},
   "outputs": [],
   "source": [
    "#loading module\n",
    "from sklearn.model_selection import train_test_split"
   ]
  },
  {
   "cell_type": "code",
   "execution_count": 307,
   "id": "56ea531b",
   "metadata": {},
   "outputs": [],
   "source": [
    "\n",
    "x_train, x_test, y_train, y_test = train_test_split(x,y, test_size = 0.2, random_state = 40)"
   ]
  },
  {
   "cell_type": "markdown",
   "id": "b717b450",
   "metadata": {},
   "source": [
    "### Classification: using traditional machine learning"
   ]
  },
  {
   "cell_type": "markdown",
   "id": "e312d852",
   "metadata": {},
   "source": [
    "Since we are trying to predict the severity of of an accident we use a classification funtion called **Decision Tree Classifier**"
   ]
  },
  {
   "cell_type": "markdown",
   "id": "8e22ed5b",
   "metadata": {},
   "source": [
    "#### Decision tree Model"
   ]
  },
  {
   "cell_type": "code",
   "execution_count": 308,
   "id": "eaec4781",
   "metadata": {},
   "outputs": [],
   "source": [
    "#importing modules\n",
    "from sklearn.tree import DecisionTreeClassifier"
   ]
  },
  {
   "cell_type": "code",
   "execution_count": 309,
   "id": "c1f762c3",
   "metadata": {
    "scrolled": true
   },
   "outputs": [
    {
     "data": {
      "text/plain": [
       "DecisionTreeClassifier(criterion='entropy')"
      ]
     },
     "execution_count": 309,
     "metadata": {},
     "output_type": "execute_result"
    }
   ],
   "source": [
    "#creating a decisiontree classifier object object\n",
    "dt = DecisionTreeClassifier(criterion='entropy', splitter='best',max_features=None, min_samples_leaf=1)\n",
    "#fitting our model\n",
    "dt.fit(x_train,y_train)"
   ]
  },
  {
   "cell_type": "markdown",
   "id": "7d8bc8ff",
   "metadata": {},
   "source": [
    "#### Evaluating the Decison Tree Model "
   ]
  },
  {
   "cell_type": "markdown",
   "id": "f87fd2a9",
   "metadata": {},
   "source": [
    "#### Predicting the dataset"
   ]
  },
  {
   "cell_type": "code",
   "execution_count": 310,
   "id": "b6b05566",
   "metadata": {},
   "outputs": [],
   "source": [
    "#importing modules\n",
    "from sklearn.metrics import confusion_matrix, accuracy_score"
   ]
  },
  {
   "cell_type": "code",
   "execution_count": 311,
   "id": "9cba84b0",
   "metadata": {},
   "outputs": [
    {
     "data": {
      "text/plain": [
       "array(['serious', 'fatal', 'slight', ..., 'fatal', 'slight', 'serious'],\n",
       "      dtype=object)"
      ]
     },
     "execution_count": 311,
     "metadata": {},
     "output_type": "execute_result"
    }
   ],
   "source": [
    "#making prediction using our test data\n",
    "prediction = dt.predict(x_test)\n",
    "prediction"
   ]
  },
  {
   "cell_type": "code",
   "execution_count": 312,
   "id": "57a76501",
   "metadata": {},
   "outputs": [
    {
     "name": "stdout",
     "output_type": "stream",
     "text": [
      "Model accuracy is: 0.687746170678337\n"
     ]
    }
   ],
   "source": [
    "#Evaluating Accuracy\n",
    "accuracy = accuracy_score(y_test,prediction)\n",
    "print(f\"Model accuracy is: {accuracy}\")"
   ]
  },
  {
   "cell_type": "markdown",
   "id": "d348dddd",
   "metadata": {},
   "source": [
    "We've got a model accuracy of **69%**"
   ]
  },
  {
   "cell_type": "markdown",
   "id": "0e3b08db",
   "metadata": {},
   "source": [
    "#### improving model"
   ]
  },
  {
   "cell_type": "markdown",
   "id": "09402bd8",
   "metadata": {},
   "source": [
    "finetunning hyperparameters"
   ]
  },
  {
   "cell_type": "code",
   "execution_count": 313,
   "id": "b6de6ccc",
   "metadata": {
    "scrolled": true
   },
   "outputs": [
    {
     "data": {
      "text/plain": [
       "DecisionTreeClassifier(criterion='entropy', max_features=5, min_samples_leaf=5)"
      ]
     },
     "execution_count": 313,
     "metadata": {},
     "output_type": "execute_result"
    }
   ],
   "source": [
    "#creating a decisiontree classifier object object\n",
    "dt = DecisionTreeClassifier(criterion='entropy', splitter='best',max_features=5, min_samples_leaf=5)\n",
    "#fitting our model\n",
    "dt.fit(x_train,y_train)"
   ]
  },
  {
   "cell_type": "code",
   "execution_count": 314,
   "id": "ba2f2c19",
   "metadata": {},
   "outputs": [],
   "source": [
    "#importing modules\n",
    "from sklearn.metrics import confusion_matrix, accuracy_score"
   ]
  },
  {
   "cell_type": "code",
   "execution_count": 315,
   "id": "51593cde",
   "metadata": {},
   "outputs": [
    {
     "data": {
      "text/plain": [
       "array(['serious', 'fatal', 'slight', ..., 'serious', 'slight', 'serious'],\n",
       "      dtype=object)"
      ]
     },
     "execution_count": 315,
     "metadata": {},
     "output_type": "execute_result"
    }
   ],
   "source": [
    "#making prediction using our test data\n",
    "prediction = dt.predict(x_test)\n",
    "prediction"
   ]
  },
  {
   "cell_type": "code",
   "execution_count": 316,
   "id": "5e24905d",
   "metadata": {},
   "outputs": [
    {
     "name": "stdout",
     "output_type": "stream",
     "text": [
      "Model accuracy is: 0.7396061269146609\n"
     ]
    }
   ],
   "source": [
    "#Evaluating Accuracy\n",
    "accuracy = accuracy_score(y_test,prediction)\n",
    "print(f\"Model accuracy is: {accuracy}\")"
   ]
  },
  {
   "cell_type": "markdown",
   "id": "fad1e133",
   "metadata": {},
   "source": [
    "We've got a model accuracy of **76%**"
   ]
  },
  {
   "cell_type": "markdown",
   "id": "eacb0307",
   "metadata": {},
   "source": [
    "### Evaluating model using confusion_matrix"
   ]
  },
  {
   "cell_type": "code",
   "execution_count": 317,
   "id": "308e44ca",
   "metadata": {},
   "outputs": [
    {
     "data": {
      "text/plain": [
       "array([[ 646,  148,  126],\n",
       "       [ 227, 1322,  268],\n",
       "       [ 201,  220, 1412]], dtype=int64)"
      ]
     },
     "execution_count": 317,
     "metadata": {},
     "output_type": "execute_result"
    }
   ],
   "source": [
    "from sklearn.metrics import confusion_matrix, accuracy_score, classification_report\n",
    "cm = confusion_matrix(y_test, prediction)\n",
    "cm"
   ]
  },
  {
   "cell_type": "code",
   "execution_count": 318,
   "id": "9b558155",
   "metadata": {
    "scrolled": true
   },
   "outputs": [
    {
     "data": {
      "image/png": "[encoded data removed]",
      "text/plain": [
       "<Figure size 720x360 with 2 Axes>"
      ]
     },
     "metadata": {
      "needs_background": "light"
     },
     "output_type": "display_data"
    }
   ],
   "source": [
    "#plotig the matrix using heatmap\n",
    "plot.figure(figsize=(10, 5))\n",
    "\n",
    "\n",
    "sns.heatmap(cm, annot=True, fmt='g', cmap='Blues')\n",
    "plot.xlabel('Predicted')\n",
    "plot.ylabel('Actual')\n",
    "plot.title('Confusion matrix for DecisionTreeClassifier model')\n",
    "\n",
    "plot.show()"
   ]
  },
  {
   "cell_type": "markdown",
   "id": "2098d5ef",
   "metadata": {},
   "source": [
    "From the above, we can see that DecisionTreeClassifier model correctly predicted the following number of instances for each  the confusion matrix summarizes the number of correct and incorrect predictions made by the model for each class of accident severity (i.e., \"fatal\", \"serious\", \"slight\").\n",
    "\n",
    "The confusion matrix is a 3x3 matrix, where the rows represent the actual classes of accident severity and the columns represent the predicted classes.\n",
    "\n",
    "The values in the diagonal of the matrix represent the number of correct predictions for each class. For example, the value 646 in the first row and first column represents the number of \"fatal\" accidents that were correctly predicted as \"fatal\".\n",
    "\n",
    "The values outside the diagonal represent the number of incorrect predictions. For example, the value 148 in the first row and second column represents the number of \"fatal\" accidents that were incorrectly predicted as \"serious\".insa"
   ]
  },
  {
   "cell_type": "code",
   "execution_count": 319,
   "id": "45a6c28e",
   "metadata": {},
   "outputs": [
    {
     "name": "stdout",
     "output_type": "stream",
     "text": [
      "Classification Report:\n",
      "\n",
      "                precision    recall  f1-score   support\n",
      "\n",
      "       fatal       0.60      0.70      0.65       920\n",
      "     serious       0.78      0.73      0.75      1817\n",
      "      slight       0.78      0.77      0.78      1833\n",
      "\n",
      "    accuracy                           0.74      4570\n",
      "   macro avg       0.72      0.73      0.73      4570\n",
      "weighted avg       0.75      0.74      0.74      4570\n",
      "\n"
     ]
    }
   ],
   "source": [
    "#Report\n",
    "\n",
    "print(f'Classification Report:\\n\\n  {classification_report(y_test, prediction)}')"
   ]
  },
  {
   "cell_type": "markdown",
   "id": "995460eb",
   "metadata": {},
   "source": [
    "### Classification using neural networks Model"
   ]
  },
  {
   "cell_type": "code",
   "execution_count": 320,
   "id": "365bd1ad",
   "metadata": {},
   "outputs": [],
   "source": [
    "#importing neccessary modules\n",
    "from keras.models import Sequential\n",
    "from keras.layers import Dense\n",
    "from keras.losses import sparse_categorical_crossentropy"
   ]
  },
  {
   "cell_type": "code",
   "execution_count": 321,
   "id": "030d08d0",
   "metadata": {},
   "outputs": [
    {
     "data": {
      "text/plain": [
       "(18277, 20)"
      ]
     },
     "execution_count": 321,
     "metadata": {},
     "output_type": "execute_result"
    }
   ],
   "source": [
    "x_train.shape"
   ]
  },
  {
   "cell_type": "code",
   "execution_count": 355,
   "id": "2d071bac",
   "metadata": {},
   "outputs": [],
   "source": [
    "#hot encoding dependent variable\n",
    "y_train2 = pd.get_dummies(y_train)\n",
    "y_test2 = pd.get_dummies(y_test)\n",
    "\n"
   ]
  },
  {
   "cell_type": "markdown",
   "id": "f9636d41",
   "metadata": {},
   "source": [
    "###### Adding Layers/neurons"
   ]
  },
  {
   "cell_type": "code",
   "execution_count": 356,
   "id": "359a4d88",
   "metadata": {},
   "outputs": [],
   "source": [
    "#creating the classifier object\n",
    "classifier = Sequential()"
   ]
  },
  {
   "cell_type": "code",
   "execution_count": 357,
   "id": "f003fc81",
   "metadata": {},
   "outputs": [],
   "source": [
    "classifier.add(Dense(64, activation = 'relu', input_dim=20))"
   ]
  },
  {
   "cell_type": "code",
   "execution_count": 358,
   "id": "501f4dfc",
   "metadata": {},
   "outputs": [],
   "source": [
    "#Adding hidden layer\n",
    "classifier.add(Dense(32, activation = 'relu'))"
   ]
  },
  {
   "cell_type": "code",
   "execution_count": 359,
   "id": "1e8ab637",
   "metadata": {},
   "outputs": [],
   "source": [
    "# adding output layer\n",
    "classifier.add(Dense(3, activation = 'softmax'))\n",
    "# note: we use 3 units because our predicion is of 3 classifiers"
   ]
  },
  {
   "cell_type": "code",
   "execution_count": 360,
   "id": "164703f4",
   "metadata": {},
   "outputs": [],
   "source": [
    "#compiling our NN model\n",
    "\n",
    "classifier.compile(optimizer='adam', loss = 'categorical_crossentropy', metrics = ['accuracy'])\n",
    "\n",
    "#note: we use the metrics funtion to measure our model accuracy"
   ]
  },
  {
   "cell_type": "code",
   "execution_count": 361,
   "id": "9f68f668",
   "metadata": {},
   "outputs": [],
   "source": [
    "#fiting dataset with the  NN model\n",
    "\n",
    "history = classifier.fit(x_train, y_train2, epochs=10, verbose=False, validation_data=(x_test, y_test2), batch_size=10)"
   ]
  },
  {
   "cell_type": "markdown",
   "id": "0be027fe",
   "metadata": {},
   "source": [
    "#### Evaluating the Neural Network Model accuracy"
   ]
  },
  {
   "cell_type": "code",
   "execution_count": 362,
   "id": "7eea4058",
   "metadata": {},
   "outputs": [],
   "source": [
    "loss, accuracy = classifier.evaluate(x_train, y_train2, verbose=False)"
   ]
  },
  {
   "cell_type": "code",
   "execution_count": null,
   "id": "d016bac0",
   "metadata": {},
   "outputs": [],
   "source": []
  },
  {
   "cell_type": "code",
   "execution_count": 363,
   "id": "55d75afe",
   "metadata": {},
   "outputs": [
    {
     "name": "stdout",
     "output_type": "stream",
     "text": [
      "Neural Model Accuracy: 0.7779723405838013\n"
     ]
    }
   ],
   "source": [
    "#Evaluating Accuracy\n",
    "print(f\"Neural Model Accuracy: {accuracy}\")"
   ]
  },
  {
   "cell_type": "markdown",
   "id": "db2a1f7e",
   "metadata": {},
   "source": [
    "We've got **78% accuracy**"
   ]
  },
  {
   "cell_type": "code",
   "execution_count": 364,
   "id": "5971f85e",
   "metadata": {},
   "outputs": [
    {
     "name": "stdout",
     "output_type": "stream",
     "text": [
      "143/143 [==============================] - 0s 1ms/step\n"
     ]
    },
    {
     "data": {
      "text/plain": [
       "array([[0.03243514, 0.8854178 , 0.08214711],\n",
       "       [0.62219465, 0.23234119, 0.1454642 ],\n",
       "       [0.00104966, 0.22282104, 0.7761293 ],\n",
       "       ...,\n",
       "       [0.61629605, 0.26055032, 0.1231536 ],\n",
       "       [0.07256269, 0.11874429, 0.808693  ],\n",
       "       [0.3441962 , 0.5027525 , 0.15305127]], dtype=float32)"
      ]
     },
     "execution_count": 364,
     "metadata": {},
     "output_type": "execute_result"
    }
   ],
   "source": [
    "prediction2 = classifier.predict(x_test)\n",
    "prediction2"
   ]
  },
  {
   "cell_type": "code",
   "execution_count": 365,
   "id": "ab5a0db8",
   "metadata": {
    "scrolled": true
   },
   "outputs": [
    {
     "name": "stdout",
     "output_type": "stream",
     "text": [
      "Model: \"sequential_13\"\n",
      "_________________________________________________________________\n",
      " Layer (type)                Output Shape              Param #   \n",
      "=================================================================\n",
      " dense_43 (Dense)            (None, 64)                1344      \n",
      "                                                                 \n",
      " dense_44 (Dense)            (None, 32)                2080      \n",
      "                                                                 \n",
      " dense_45 (Dense)            (None, 3)                 99        \n",
      "                                                                 \n",
      "=================================================================\n",
      "Total params: 3,523\n",
      "Trainable params: 3,523\n",
      "Non-trainable params: 0\n",
      "_________________________________________________________________\n"
     ]
    }
   ],
   "source": [
    "classifier.summary()"
   ]
  },
  {
   "cell_type": "code",
   "execution_count": null,
   "id": "8899be52",
   "metadata": {},
   "outputs": [],
   "source": []
  },
  {
   "cell_type": "markdown",
   "id": "0b365620",
   "metadata": {},
   "source": [
    "### Visualizing the loss and accuracy for the training data based on the History callback"
   ]
  },
  {
   "cell_type": "code",
   "execution_count": 372,
   "id": "6c304dd4",
   "metadata": {},
   "outputs": [],
   "source": [
    "import matplotlib.pyplot as plt\n",
    "plt.style.use('ggplot')\n",
    "\n",
    "def plot_history(history):\n",
    "    acc = history.history['accuracy']\n",
    "    loss = history.history['loss']\n",
    "    x = range(1, len(acc) + 1)\n",
    "\n",
    "    plt.figure(figsize=(12, 5))\n",
    "    plt.subplot(1, 2, 1)\n",
    "    plt.plot(x, acc, 'b', label='Training accuarcy')\n",
    "    plt.title('Training accuracy')\n",
    "    plot.ylabel('accuracy')\n",
    "    plot.xlabel('epoch')\n",
    "    plt.legend()\n",
    "    plt.subplot(1, 2, 2)\n",
    "    plt.plot(x, loss, 'r', label='Training loss')\n",
    "    plt.title('Training loss')\n",
    "\n",
    "    plt.legend()"
   ]
  },
  {
   "cell_type": "code",
   "execution_count": 373,
   "id": "e371a53b",
   "metadata": {
    "scrolled": true
   },
   "outputs": [
    {
     "data": {
      "image/png": "[encoded data removed]",
      "text/plain": [
       "<Figure size 864x360 with 2 Axes>"
      ]
     },
     "metadata": {},
     "output_type": "display_data"
    }
   ],
   "source": [
    "plot_history(history)"
   ]
  },
  {
   "cell_type": "code",
   "execution_count": null,
   "id": "31104911",
   "metadata": {},
   "outputs": [],
   "source": []
  },
  {
   "cell_type": "markdown",
   "id": "6158006c",
   "metadata": {},
   "source": [
    "### Recomendation"
   ]
  },
  {
   "cell_type": "markdown",
   "id": "8e5936f2",
   "metadata": {},
   "source": [
    "- Base on the evaluations of our models, the **Neural network model** with an **accuracy of 75%** on the test dataset performs better and thus is the best model for this task.\n",
    "\n",
    "- The final model is good enough to be used in practice as it has a good accuracy of 75% which is better compared to the first model.\n",
    "\n",
    "- For future improvements i suggest trying other models such as Random forest, and tunning of the hyperprameters"
   ]
  },
  {
   "cell_type": "code",
   "execution_count": null,
   "id": "a65f988a",
   "metadata": {},
   "outputs": [],
   "source": []
  }
 ],
 "metadata": {
  "kernelspec": {
   "display_name": "Python 3 (ipykernel)",
   "language": "python",
   "name": "python3"
  },
  "language_info": {
   "codemirror_mode": {
    "name": "ipython",
    "version": 3
   },
   "file_extension": ".py",
   "mimetype": "text/x-python",
   "name": "python",
   "nbconvert_exporter": "python",
   "pygments_lexer": "ipython3",
   "version": "3.9.12"
  }
 },
 "nbformat": 4,
 "nbformat_minor": 5
}

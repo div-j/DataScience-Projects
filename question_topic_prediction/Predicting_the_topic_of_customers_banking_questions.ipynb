{
 "cells": [
  {
   "cell_type": "markdown",
   "id": "f3225ba3",
   "metadata": {},
   "source": [
    "## Executive summary"
   ]
  },
  {
   "cell_type": "markdown",
   "id": "4eb33050",
   "metadata": {},
   "source": [
    "This is the report of a  dataset provided by the bank to predict the specific question topic asked by the bank customers in an online chat, using traditional machine learning algorithms and neural networks, with the aim to improve its online customer service.\n",
    "\n",
    "The topics of interest include \"card queries or issues\", \"needs trouble shooting\", \"top up queries or issues\", and \"other\".\n",
    "The bank would also like to compare the performance of both the traditional machine learning algorithms with neural networks, with the goal to determine whether neural networks offer significantly higher performance than traditional machine learning algorithms.\n",
    "\n",
    "In the process of developing these machine learning models, we will use a combination of traditional machine learning algorithms and neural network. \n",
    "The methodologies involved in this process  includes:\n",
    "- Data exploration \n",
    "- Data preprocessing \n",
    "- Feature extraction\n",
    "- Model training using traditional machine learning\n",
    "- Model training using neural networks  and,\n",
    "- Evaluation.\n"
   ]
  },
  {
   "cell_type": "markdown",
   "id": "6782f945",
   "metadata": {},
   "source": [
    "## Data Exploration "
   ]
  },
  {
   "cell_type": "markdown",
   "id": "d9b5c8c9",
   "metadata": {},
   "source": [
    "Here we need to examine and get a better understanding of our dataset structure, features, patterns, and detect any issues or anomalies in the dataset. Thus: we will be checking for missing values, we will examine the data types of each column, take a statistics summary and check the distribution of target variables"
   ]
  },
  {
   "cell_type": "code",
   "execution_count": 122,
   "id": "f76188ba",
   "metadata": {},
   "outputs": [],
   "source": [
    "#importing liberaries\n",
    "%matplotlib inline\n",
    "import numpy as np\n",
    "import matplotlib.pyplot as plot\n",
    "import pandas as pd\n",
    "import seaborn as sns"
   ]
  },
  {
   "cell_type": "markdown",
   "id": "ddc2e392",
   "metadata": {},
   "source": [
    "#### loading Dataset"
   ]
  },
  {
   "cell_type": "code",
   "execution_count": 123,
   "id": "a2834e30",
   "metadata": {
    "scrolled": false
   },
   "outputs": [
    {
     "data": {
      "text/html": [
       "<div>\n",
       "<style scoped>\n",
       "    .dataframe tbody tr th:only-of-type {\n",
       "        vertical-align: middle;\n",
       "    }\n",
       "\n",
       "    .dataframe tbody tr th {\n",
       "        vertical-align: top;\n",
       "    }\n",
       "\n",
       "    .dataframe thead th {\n",
       "        text-align: right;\n",
       "    }\n",
       "</style>\n",
       "<table border=\"1\" class=\"dataframe\">\n",
       "  <thead>\n",
       "    <tr style=\"text-align: right;\">\n",
       "      <th></th>\n",
       "      <th>text</th>\n",
       "      <th>label</th>\n",
       "      <th>query_index</th>\n",
       "    </tr>\n",
       "  </thead>\n",
       "  <tbody>\n",
       "    <tr>\n",
       "      <th>0</th>\n",
       "      <td>Can I automatically top-up when traveling?</td>\n",
       "      <td>top_up_queries_or_issues</td>\n",
       "      <td>526cd7f17526</td>\n",
       "    </tr>\n",
       "    <tr>\n",
       "      <th>1</th>\n",
       "      <td>What kind of fiat currency can I used for hold...</td>\n",
       "      <td>other</td>\n",
       "      <td>f3cf7343067e</td>\n",
       "    </tr>\n",
       "    <tr>\n",
       "      <th>2</th>\n",
       "      <td>I did not get the item I ordered.  How should ...</td>\n",
       "      <td>other</td>\n",
       "      <td>9a19501c3a3c</td>\n",
       "    </tr>\n",
       "    <tr>\n",
       "      <th>3</th>\n",
       "      <td>Freeze my account it's been hacked.</td>\n",
       "      <td>needs_troubleshooting</td>\n",
       "      <td>d76b07db8cf8</td>\n",
       "    </tr>\n",
       "    <tr>\n",
       "      <th>4</th>\n",
       "      <td>is there a reason that my payment didnt go thr...</td>\n",
       "      <td>other</td>\n",
       "      <td>bd95ba09a18d</td>\n",
       "    </tr>\n",
       "  </tbody>\n",
       "</table>\n",
       "</div>"
      ],
      "text/plain": [
       "                                                text  \\\n",
       "0         Can I automatically top-up when traveling?   \n",
       "1  What kind of fiat currency can I used for hold...   \n",
       "2  I did not get the item I ordered.  How should ...   \n",
       "3                Freeze my account it's been hacked.   \n",
       "4  is there a reason that my payment didnt go thr...   \n",
       "\n",
       "                      label   query_index  \n",
       "0  top_up_queries_or_issues  526cd7f17526  \n",
       "1                     other  f3cf7343067e  \n",
       "2                     other  9a19501c3a3c  \n",
       "3     needs_troubleshooting  d76b07db8cf8  \n",
       "4                     other  bd95ba09a18d  "
      ]
     },
     "execution_count": 123,
     "metadata": {},
     "output_type": "execute_result"
    }
   ],
   "source": [
    "#loading data\n",
    "\n",
    "df = pd.read_csv('OPTION2_joined_coursework_dataset_banking_final.csv')\n",
    "\n",
    "df.head()"
   ]
  },
  {
   "cell_type": "code",
   "execution_count": 124,
   "id": "3d2f2f06",
   "metadata": {},
   "outputs": [
    {
     "data": {
      "text/plain": [
       "(14195, 3)"
      ]
     },
     "execution_count": 124,
     "metadata": {},
     "output_type": "execute_result"
    }
   ],
   "source": [
    "#checking the shape of dataset\n",
    "df.shape"
   ]
  },
  {
   "cell_type": "code",
   "execution_count": 125,
   "id": "db4a8eb0",
   "metadata": {
    "scrolled": true
   },
   "outputs": [
    {
     "name": "stdout",
     "output_type": "stream",
     "text": [
      "<class 'pandas.core.frame.DataFrame'>\n",
      "RangeIndex: 14195 entries, 0 to 14194\n",
      "Data columns (total 3 columns):\n",
      " #   Column       Non-Null Count  Dtype \n",
      "---  ------       --------------  ----- \n",
      " 0   text         14195 non-null  object\n",
      " 1   label        13674 non-null  object\n",
      " 2   query_index  14195 non-null  object\n",
      "dtypes: object(3)\n",
      "memory usage: 332.8+ KB\n",
      "None\n"
     ]
    }
   ],
   "source": [
    "#checking the information of our dataset\n",
    "print(df.info())"
   ]
  },
  {
   "cell_type": "markdown",
   "id": "342b119c",
   "metadata": {},
   "source": [
    "From the above the dataset is of 3 columns with a row of 14195 and each having an object data type  "
   ]
  },
  {
   "cell_type": "markdown",
   "id": "d2572b95",
   "metadata": {},
   "source": [
    "#### Droping unnecessary column\n"
   ]
  },
  {
   "cell_type": "markdown",
   "id": "d96c7782",
   "metadata": {},
   "source": [
    "Droping unnecessary column, that is columns that do not contribute to our analysis"
   ]
  },
  {
   "cell_type": "code",
   "execution_count": 126,
   "id": "059f7d11",
   "metadata": {
    "scrolled": false
   },
   "outputs": [
    {
     "data": {
      "text/plain": [
       "(14195, 2)"
      ]
     },
     "execution_count": 126,
     "metadata": {},
     "output_type": "execute_result"
    }
   ],
   "source": [
    "#droping query_index column\n",
    "df = df.drop(columns= 'query_index')\n",
    "df.shape"
   ]
  },
  {
   "cell_type": "code",
   "execution_count": 127,
   "id": "f3afe4bf",
   "metadata": {
    "scrolled": true
   },
   "outputs": [
    {
     "data": {
      "text/plain": [
       "text       0\n",
       "label    521\n",
       "dtype: int64"
      ]
     },
     "execution_count": 127,
     "metadata": {},
     "output_type": "execute_result"
    }
   ],
   "source": [
    "# checking for missing values\n",
    "\n",
    "df.isna().sum()"
   ]
  },
  {
   "cell_type": "markdown",
   "id": "2421d7c2",
   "metadata": {},
   "source": [
    "From the above the label column has 521 missing values"
   ]
  },
  {
   "cell_type": "code",
   "execution_count": 128,
   "id": "1138fe0e",
   "metadata": {},
   "outputs": [
    {
     "data": {
      "text/plain": [
       "text     0\n",
       "label    0\n",
       "dtype: int64"
      ]
     },
     "execution_count": 128,
     "metadata": {},
     "output_type": "execute_result"
    }
   ],
   "source": [
    "#droping missing values\n",
    "df = df.dropna()\n",
    "df.isna().sum()"
   ]
  },
  {
   "cell_type": "code",
   "execution_count": 129,
   "id": "892e2533",
   "metadata": {
    "scrolled": true
   },
   "outputs": [
    {
     "data": {
      "text/html": [
       "<div>\n",
       "<style scoped>\n",
       "    .dataframe tbody tr th:only-of-type {\n",
       "        vertical-align: middle;\n",
       "    }\n",
       "\n",
       "    .dataframe tbody tr th {\n",
       "        vertical-align: top;\n",
       "    }\n",
       "\n",
       "    .dataframe thead th {\n",
       "        text-align: right;\n",
       "    }\n",
       "</style>\n",
       "<table border=\"1\" class=\"dataframe\">\n",
       "  <thead>\n",
       "    <tr style=\"text-align: right;\">\n",
       "      <th></th>\n",
       "      <th>text</th>\n",
       "      <th>label</th>\n",
       "    </tr>\n",
       "  </thead>\n",
       "  <tbody>\n",
       "    <tr>\n",
       "      <th>count</th>\n",
       "      <td>13674</td>\n",
       "      <td>13674</td>\n",
       "    </tr>\n",
       "    <tr>\n",
       "      <th>unique</th>\n",
       "      <td>13084</td>\n",
       "      <td>8</td>\n",
       "    </tr>\n",
       "    <tr>\n",
       "      <th>top</th>\n",
       "      <td>#</td>\n",
       "      <td>other</td>\n",
       "    </tr>\n",
       "    <tr>\n",
       "      <th>freq</th>\n",
       "      <td>68</td>\n",
       "      <td>5036</td>\n",
       "    </tr>\n",
       "  </tbody>\n",
       "</table>\n",
       "</div>"
      ],
      "text/plain": [
       "         text  label\n",
       "count   13674  13674\n",
       "unique  13084      8\n",
       "top         #  other\n",
       "freq       68   5036"
      ]
     },
     "execution_count": 129,
     "metadata": {},
     "output_type": "execute_result"
    }
   ],
   "source": [
    "#Check the statistics summary of our dataset\n",
    "df.describe()"
   ]
  },
  {
   "cell_type": "markdown",
   "id": "f7e6a950",
   "metadata": {},
   "source": [
    "- **count**: We have 14,195 values in the text column, 13,674 values in the label column, and 14,195 values in the query_index column.\n",
    "\n",
    "- **unique**: Number unique values in the text column: From we could see that there are 13,084 unique values in the text column, 8 unique values in the label column, and 13,672 unique values in the query_index column.\n",
    "\n",
    "- **top**: The most common value in each column: the most common value in the text column is '#', the most common value in the label column is 'other', and the most common value in the query_index column is 'fc9b781a6b97'.\n",
    "\n",
    "- **freq**: The frequency of the most common value in each column. In this case, the most common value in the text column appears 68 times, the most common value in the label column appears 5,036 times, and the most common value in the query_index column appears 2 times."
   ]
  },
  {
   "cell_type": "code",
   "execution_count": null,
   "id": "cc1df5f9",
   "metadata": {},
   "outputs": [],
   "source": []
  },
  {
   "cell_type": "markdown",
   "id": "477e1523",
   "metadata": {},
   "source": [
    "#### Checking for the distribution of the target variable with an horizontal bar chat"
   ]
  },
  {
   "cell_type": "code",
   "execution_count": 130,
   "id": "4dca1d6e",
   "metadata": {
    "scrolled": true
   },
   "outputs": [
    {
     "data": {
      "text/plain": [
       "Text(0.5, 1.0, 'Distribution of Target Labels')"
      ]
     },
     "execution_count": 130,
     "metadata": {},
     "output_type": "execute_result"
    },
    {
     "data": {
      "image/png": "[encoded data removed]",
      "text/plain": [
       "<Figure size 720x360 with 1 Axes>"
      ]
     },
     "metadata": {
      "needs_background": "light"
     },
     "output_type": "display_data"
    }
   ],
   "source": [
    "#counting the target variable\n",
    "label_counts =df['label'].value_counts()\n",
    "\n",
    "# plot a bar chart of the label counts\n",
    "label_counts.plot(kind='barh', figsize=(10, 5))\n",
    "\n",
    "# set the labels and title\n",
    "plot.xlabel('Count')\n",
    "plot.ylabel('Label')\n",
    "plot.title('Distribution of Target Labels')"
   ]
  },
  {
   "cell_type": "markdown",
   "id": "55817575",
   "metadata": {},
   "source": [
    "From the above could see anomalies in the target variable with inconsistent spelling"
   ]
  },
  {
   "cell_type": "code",
   "execution_count": 131,
   "id": "9c1af5cf",
   "metadata": {
    "scrolled": true
   },
   "outputs": [
    {
     "data": {
      "text/plain": [
       "array(['top_up_queries_or_issues', 'other', 'needs_troubleshooting',\n",
       "       'card_queries_or_issues', 'Needs_troubleshooting',\n",
       "       'Card_queries_or_issues', 'Other', 'Top_up_queries_or_issues'],\n",
       "      dtype=object)"
      ]
     },
     "execution_count": 131,
     "metadata": {},
     "output_type": "execute_result"
    }
   ],
   "source": [
    "# investigating the dependent variable\n",
    "df['label'].unique()"
   ]
  },
  {
   "cell_type": "code",
   "execution_count": 132,
   "id": "4158eb87",
   "metadata": {
    "scrolled": true
   },
   "outputs": [],
   "source": [
    "#Fixing anomalies in the target variable\n",
    "y=df['label'].str.lower()"
   ]
  },
  {
   "cell_type": "code",
   "execution_count": 133,
   "id": "6763ba47",
   "metadata": {},
   "outputs": [
    {
     "data": {
      "text/plain": [
       "Text(0.5, 1.0, 'Distribution of Target Labels')"
      ]
     },
     "execution_count": 133,
     "metadata": {},
     "output_type": "execute_result"
    },
    {
     "data": {
      "image/png": "[encoded data removed]",
      "text/plain": [
       "<Figure size 720x360 with 1 Axes>"
      ]
     },
     "metadata": {
      "needs_background": "light"
     },
     "output_type": "display_data"
    }
   ],
   "source": [
    "label_counts =y.value_counts()\n",
    "\n",
    "# plot a bar chart of the label counts\n",
    "label_counts.plot(kind='barh', figsize=(10, 5))\n",
    "\n",
    "# set the labels and title\n",
    "plot.xlabel('Count')\n",
    "plot.ylabel('Label')\n",
    "plot.title('Distribution of Target Labels')"
   ]
  },
  {
   "cell_type": "code",
   "execution_count": null,
   "id": "b5b24ce2",
   "metadata": {},
   "outputs": [],
   "source": []
  },
  {
   "cell_type": "markdown",
   "id": "4e035c1a",
   "metadata": {},
   "source": [
    "### Preprocessing Dataset"
   ]
  },
  {
   "cell_type": "markdown",
   "id": "4608a488",
   "metadata": {},
   "source": [
    "Next the thing is to preprocess the dataset, that is to transform raw text data into a format that can be easily understood and analyzed by both machine learning algorithms and neural network.\n",
    "We will take the following steps:\n",
    "\n",
    "- Lowercasing: Converting all words to lowercase to ensure consistency in the data\n",
    "\n",
    "- Tokenization: Breaking down the text into individual words or tokens.\n",
    "- Stop word removal: Removing common words such as \"the\", \"and\", \"is\", etc. that are unlikely to have any significant impact on the classification model.\n",
    "- Stemming or lemmatization: Reducing words to their root form to standardize the vocabulary and reduce the dimensionality of the data.\n",
    "- Removing special characters and punctuation: Removing any special characters\n",
    "- Splitting the dataset into training and testing sets"
   ]
  },
  {
   "cell_type": "code",
   "execution_count": null,
   "id": "ae3f54d8",
   "metadata": {},
   "outputs": [],
   "source": []
  },
  {
   "cell_type": "markdown",
   "id": "74ad5c2e",
   "metadata": {},
   "source": [
    "#### Creating a function for further preprocessing"
   ]
  },
  {
   "cell_type": "code",
   "execution_count": 134,
   "id": "a1a3d2a5",
   "metadata": {},
   "outputs": [],
   "source": [
    "#importing modules required for other preprocessing\n",
    "\n",
    "import re\n",
    "import nltk\n",
    "from nltk.corpus import stopwords\n",
    "from nltk.stem import WordNetLemmatizer"
   ]
  },
  {
   "cell_type": "code",
   "execution_count": 135,
   "id": "38659de0",
   "metadata": {},
   "outputs": [],
   "source": [
    "def preprocess_text(column):\n",
    "    # Remove all special characters\n",
    "    column = re.sub(r'\\W+', ' ', column)\n",
    "    \n",
    "    # Lowercase the text\n",
    "    l_text = column.lower()\n",
    "    \n",
    "    # Tokenize the text\n",
    "    tokens = nltk.word_tokenize(l_text)\n",
    "    \n",
    "    # Remove stopwords\n",
    "    stop_words = set(stopwords.words('english'))\n",
    "    tokens = [token for token in tokens if not token in stop_words]\n",
    "    \n",
    "    # Lemmatize the tokens\n",
    "    lemmatizer = WordNetLemmatizer()\n",
    "    tokens = [lemmatizer.lemmatize(token) for token in tokens]\n",
    "    \n",
    "    # Join the tokens back into a string\n",
    "    column = ' '.join(tokens)\n",
    "    return column"
   ]
  },
  {
   "cell_type": "code",
   "execution_count": 136,
   "id": "e2128522",
   "metadata": {},
   "outputs": [],
   "source": [
    "#Applying this function on our text dataset\n",
    "x =df['text'].apply(preprocess_text)"
   ]
  },
  {
   "cell_type": "code",
   "execution_count": null,
   "id": "6972442f",
   "metadata": {},
   "outputs": [],
   "source": []
  },
  {
   "cell_type": "markdown",
   "id": "41e8aa99",
   "metadata": {},
   "source": [
    "#### Feature Extraction: \n",
    "Using the CountVectorizer provided by the scikit-learn library to vectorize sentences we takes the words of each sentence and creates a vocabulary of all the unique words in the sentences called corpus."
   ]
  },
  {
   "cell_type": "code",
   "execution_count": 137,
   "id": "498f3482",
   "metadata": {},
   "outputs": [
    {
     "data": {
      "text/plain": [
       "<13674x2231 sparse matrix of type '<class 'numpy.int64'>'\n",
       "\twith 67417 stored elements in Compressed Sparse Row format>"
      ]
     },
     "execution_count": 137,
     "metadata": {},
     "output_type": "execute_result"
    }
   ],
   "source": [
    "from sklearn.feature_extraction.text import CountVectorizer\n",
    "\n",
    "vectorizer = CountVectorizer()\n",
    "vectorizer.fit(x)\n",
    "\n",
    "x = vectorizer.transform(x)\n",
    "x"
   ]
  },
  {
   "cell_type": "markdown",
   "id": "0c0e6941",
   "metadata": {},
   "source": [
    "From the above we can see that the resulting feature vectors have 13674 samples which are the number of training samples we have after the train-test split. Each sample has 2231 dimensions which is the size of the vocabulary. Also, we can see that we get a sparse matrix. This is a data type that is optimized for matrices with only a few non-zero elements, which only keeps track of the non-zero elements reducing the memory load."
   ]
  },
  {
   "cell_type": "markdown",
   "id": "c19f04cd",
   "metadata": {},
   "source": [
    "#### Dimensional reduction"
   ]
  },
  {
   "cell_type": "markdown",
   "id": "fe95e3c6",
   "metadata": {},
   "source": [
    "Since the dataset is of sparse matrix type and to reduce the dimension of this dataset we will employ TruncatedSVD which is a popular technique for sparse data"
   ]
  },
  {
   "cell_type": "code",
   "execution_count": 138,
   "id": "e54a5499",
   "metadata": {},
   "outputs": [
    {
     "data": {
      "image/png": "[encoded data removed]",
      "text/plain": [
       "<Figure size 720x360 with 1 Axes>"
      ]
     },
     "metadata": {
      "needs_background": "light"
     },
     "output_type": "display_data"
    }
   ],
   "source": [
    "#importing TruncatedSVD module\n",
    "from sklearn.decomposition import TruncatedSVD\n",
    "\n",
    "#setting dimension to 2\n",
    "svd = TruncatedSVD(n_components=2)\n",
    "x_dim = svd.fit_transform(x)\n",
    "\n",
    "plot.figure(figsize=(10, 5))\n",
    "labels =y.astype('category')\n",
    "plot.scatter(x_dim[:,0], x_dim[:,1], c=labels.cat.codes, cmap='Accent',)\n",
    "plot.xlabel('Dimension 1')\n",
    "plot.ylabel('Dimension 2')\n",
    "\n",
    "plot.title('2D Dataset Visualization')\n",
    "plot.show()"
   ]
  },
  {
   "cell_type": "markdown",
   "id": "88b91385",
   "metadata": {},
   "source": [
    "#### Splitting dataset into training and test sets"
   ]
  },
  {
   "cell_type": "code",
   "execution_count": 163,
   "id": "69229d48",
   "metadata": {},
   "outputs": [
    {
     "name": "stdout",
     "output_type": "stream",
     "text": [
      "Training Data : (10939, 2231)\n",
      "Testing Data :  (2735, 2231)\n"
     ]
    }
   ],
   "source": [
    "#importing spillting library\n",
    "from sklearn.model_selection import train_test_split\n",
    "\n",
    "# Split the data into training and test sets of (80% train - 20% test)\n",
    "x_train, x_test, y_train, y_test = train_test_split(x, y, test_size=0.2, random_state=40)\n",
    "\n",
    "print('Training Data :', x_train.shape)\n",
    "print('Testing Data : ', x_test.shape)"
   ]
  },
  {
   "cell_type": "markdown",
   "id": "d74e1bb7",
   "metadata": {},
   "source": [
    "## Classification using traditional machine learning"
   ]
  },
  {
   "cell_type": "markdown",
   "id": "0cac221b",
   "metadata": {},
   "source": [
    "#### Multinomial Naive Bayes and DecisionTreeClassifier\n",
    "Multinomial Naive Bayes and DecisionTreeClassifier are simple but effective probabilistic algorithm that works well with text data.  These algorithms works well with text data because they can handle a large number of features, and they computationally efficient.\n",
    "\n",
    "In addition, both the Multinomial Naive Bayes and DecisionTreeClassifier algorithm has been shown to work well on text classification tasks in many real-world scenarios. They are often used as baseline algorithms for text classification tasks, and can achieve high accuracy with relatively low computational requirements.\n",
    "\n",
    "Therefore, considering the nature of this dataset, the Multinomial Naive Bayes algorithm and the DecisionTreeClassifier are suitable choices for our classification."
   ]
  },
  {
   "cell_type": "markdown",
   "id": "2c83aab6",
   "metadata": {},
   "source": [
    "#### Developing model"
   ]
  },
  {
   "cell_type": "code",
   "execution_count": 140,
   "id": "8486ae9a",
   "metadata": {},
   "outputs": [],
   "source": [
    "#import modules\n",
    "from sklearn.naive_bayes import MultinomialNB\n",
    "from sklearn.tree import DecisionTreeClassifier\n",
    "\n",
    "# Activating our models\n",
    "nb = MultinomialNB(alpha=1,fit_prior=True)\n",
    "dt = DecisionTreeClassifier(criterion = \"gini\",splitter = \"best\",max_depth = None,min_samples_split = 2)\n"
   ]
  },
  {
   "cell_type": "code",
   "execution_count": 141,
   "id": "7e8ed305",
   "metadata": {},
   "outputs": [
    {
     "data": {
      "text/plain": [
       "MultinomialNB(alpha=1)"
      ]
     },
     "execution_count": 141,
     "metadata": {},
     "output_type": "execute_result"
    }
   ],
   "source": [
    "#Fitting our Multinomial Naive Bayes model\n",
    "nb.fit(x_train, y_train)\n"
   ]
  },
  {
   "cell_type": "code",
   "execution_count": 142,
   "id": "51dc9692",
   "metadata": {},
   "outputs": [
    {
     "data": {
      "text/plain": [
       "DecisionTreeClassifier()"
      ]
     },
     "execution_count": 142,
     "metadata": {},
     "output_type": "execute_result"
    }
   ],
   "source": [
    "#Fitting our Decision Tree model\n",
    "dt.fit(x_train, y_train)"
   ]
  },
  {
   "cell_type": "markdown",
   "id": "0aff28d4",
   "metadata": {},
   "source": [
    "##### Evaluating the MultinomialNB model"
   ]
  },
  {
   "cell_type": "code",
   "execution_count": 143,
   "id": "276bc334",
   "metadata": {
    "scrolled": true
   },
   "outputs": [
    {
     "data": {
      "text/plain": [
       "array(['card_queries_or_issues', 'other', 'other', ...,\n",
       "       'needs_troubleshooting', 'needs_troubleshooting', 'other'],\n",
       "      dtype='<U24')"
      ]
     },
     "execution_count": 143,
     "metadata": {},
     "output_type": "execute_result"
    }
   ],
   "source": [
    "# MultinomialNB evaluation\n",
    "y_nb_pred1 = nb.predict(x_test)\n",
    "y_nb_pred1"
   ]
  },
  {
   "cell_type": "code",
   "execution_count": 144,
   "id": "750359d2",
   "metadata": {
    "scrolled": false
   },
   "outputs": [
    {
     "name": "stdout",
     "output_type": "stream",
     "text": [
      "MultinomialNB Accuracy: 0.843510054844607\n"
     ]
    }
   ],
   "source": [
    "\n",
    "print('MultinomialNB Accuracy:', accuracy_score(y_test, y_nb_pred1))"
   ]
  },
  {
   "cell_type": "markdown",
   "id": "b5744785",
   "metadata": {},
   "source": [
    "##### Evaluating the DecisionTreeClassifier model"
   ]
  },
  {
   "cell_type": "code",
   "execution_count": 75,
   "id": "23fddd05",
   "metadata": {},
   "outputs": [
    {
     "data": {
      "text/plain": [
       "array(['card_queries_or_issues', 'other', 'other', ..., 'other',\n",
       "       'top_up_queries_or_issues', 'other'], dtype=object)"
      ]
     },
     "execution_count": 75,
     "metadata": {},
     "output_type": "execute_result"
    }
   ],
   "source": [
    "#y_dt_pred\n",
    "y_dt_pred1 = dt.predict(x_test)\n",
    "y_dt_pred1"
   ]
  },
  {
   "cell_type": "code",
   "execution_count": 76,
   "id": "e4cc028b",
   "metadata": {
    "scrolled": true
   },
   "outputs": [
    {
     "name": "stdout",
     "output_type": "stream",
     "text": [
      "DecisionTreeClassifier Accuracy: 0.8877513711151737\n"
     ]
    }
   ],
   "source": [
    "\n",
    "print('DecisionTreeClassifier Accuracy:', accuracy_score(y_test, y_dt_pred1))"
   ]
  },
  {
   "cell_type": "markdown",
   "id": "a902b323",
   "metadata": {},
   "source": [
    "From the above for the **MultinomialNB Model** we got an **accuracy** of **84%**, while for the **DecisionTreeClassifier Model** we got an **accuracy** of **89%**. Based on these results, we conclude that both models performed reasonably well in predicting the labels. However, the DecisionTreeClassifier model outperformed the MultinomialNB model, with a higher accuracy score. For this reason we will choose the DecisionTreeClassifier model as our final model for the tranditional machine learning algorithm."
   ]
  },
  {
   "cell_type": "markdown",
   "id": "7135f4dd",
   "metadata": {},
   "source": [
    "### Improving Model"
   ]
  },
  {
   "cell_type": "markdown",
   "id": "db009477",
   "metadata": {},
   "source": [
    "#### To improve the model we fine tune the Hyperparameters of the DecisionTreeClassifier model"
   ]
  },
  {
   "cell_type": "code",
   "execution_count": 145,
   "id": "a7c33a24",
   "metadata": {},
   "outputs": [
    {
     "data": {
      "text/plain": [
       "array(['card_queries_or_issues', 'other', 'other', ..., 'other',\n",
       "       'top_up_queries_or_issues', 'other'], dtype=object)"
      ]
     },
     "execution_count": 145,
     "metadata": {},
     "output_type": "execute_result"
    }
   ],
   "source": [
    "#changing criterion to entropy and min_samples_split to 3\n",
    "dt = DecisionTreeClassifier(criterion = \"entropy\",splitter = \"best\",max_depth = None,min_samples_split = 3)\n",
    "dt.fit(x_train, y_train)\n",
    "y_dt_pred2 = dt.predict(x_test)\n",
    "y_dt_pred2"
   ]
  },
  {
   "cell_type": "code",
   "execution_count": 146,
   "id": "19e1f6eb",
   "metadata": {},
   "outputs": [
    {
     "name": "stdout",
     "output_type": "stream",
     "text": [
      "DecisionTreeClassifier Accuracy: 0.8983546617915905\n"
     ]
    }
   ],
   "source": [
    "print('DecisionTreeClassifier Accuracy:', accuracy_score(y_test, y_dt_pred2))"
   ]
  },
  {
   "cell_type": "markdown",
   "id": "9d70ec0e",
   "metadata": {},
   "source": [
    "From the above the  DecisionTreeClassifier model imporved to **90% accuracy**"
   ]
  },
  {
   "cell_type": "markdown",
   "id": "3bf82b6b",
   "metadata": {},
   "source": [
    "#### Using the cross_validation to extimate the accuracy of the DecisionTreeClassifier Model "
   ]
  },
  {
   "cell_type": "markdown",
   "id": "375cbb52",
   "metadata": {},
   "source": [
    "Cross-validation is a technique used in machine learning to assess how well a predictive model will generalize to an independent data set."
   ]
  },
  {
   "cell_type": "code",
   "execution_count": 147,
   "id": "c524f6b4",
   "metadata": {},
   "outputs": [],
   "source": [
    "#importing module\n",
    "from sklearn.model_selection import cross_val_score"
   ]
  },
  {
   "cell_type": "code",
   "execution_count": 148,
   "id": "e64cd5e6",
   "metadata": {},
   "outputs": [
    {
     "name": "stdout",
     "output_type": "stream",
     "text": [
      "Cross-validation scores: [0.83333333 0.80116959 0.82163743 0.84502924 0.83625731 0.83333333\n",
      " 0.84502924 0.82991202]\n"
     ]
    }
   ],
   "source": [
    "scores = cross_val_score(dt, x_test, y_test, cv=8)\n",
    "print(\"Cross-validation scores:\", scores)"
   ]
  },
  {
   "cell_type": "markdown",
   "id": "6a9c6c8a",
   "metadata": {},
   "source": [
    " The cross_val_score() function performs 8-fold cross-validation on the model using the x_test and y_test from our dataset. The cv parameter specifies the number of folds to use for cross-validation.\n",
    "\n",
    "The scores obtained range from 0.800 to 0.868, indicating that the performance of the model varies slightly across the different folds. The average cross-validation score, which is calculated by taking the mean of the scores, is 0.830, suggesting that the model is performing reasonably well on the dataset."
   ]
  },
  {
   "cell_type": "markdown",
   "id": "88244de5",
   "metadata": {},
   "source": [
    "#### Evaluating Model using confusion_matrix"
   ]
  },
  {
   "cell_type": "code",
   "execution_count": 149,
   "id": "0cf2422d",
   "metadata": {},
   "outputs": [],
   "source": [
    "#import modules for evaluation\n",
    "from sklearn.metrics import accuracy_score, confusion_matrix, classification_report"
   ]
  },
  {
   "cell_type": "code",
   "execution_count": 150,
   "id": "7ddd1e93",
   "metadata": {},
   "outputs": [],
   "source": [
    "# Calculate the confusion matrix\n",
    "cm = confusion_matrix(y_test, y_dt_pred2)\n"
   ]
  },
  {
   "cell_type": "code",
   "execution_count": 151,
   "id": "3967bc5a",
   "metadata": {},
   "outputs": [
    {
     "data": {
      "image/png": "[encoded data removed]",
      "text/plain": [
       "<Figure size 864x432 with 2 Axes>"
      ]
     },
     "metadata": {
      "needs_background": "light"
     },
     "output_type": "display_data"
    }
   ],
   "source": [
    "#plotig the matrix using heatmap\n",
    "plot.figure(figsize=(12, 6))\n",
    "\n",
    "\n",
    "sns.heatmap(cm, annot=True, fmt='g', cmap='Blues')\n",
    "plot.xlabel('Predicted')\n",
    "plot.ylabel('Actual')\n",
    "plot.title('Confusion matrix for DecisionTreeClassifier model')\n",
    "\n",
    "plot.show()"
   ]
  },
  {
   "cell_type": "markdown",
   "id": "b4dae61e",
   "metadata": {},
   "source": [
    "From the above, we can see that **DecisionTreeClassifier model** correctly predicted the following number of instances for each class:\n",
    "\n",
    "486 instances of class 0 (true negatives)\n",
    "\n",
    "798 instances of class 1 (true positives)\n",
    "\n",
    "876 instances of class 2 (true positives)\n",
    "\n",
    "297 instances of class 3 (true positives)"
   ]
  },
  {
   "cell_type": "code",
   "execution_count": 152,
   "id": "cbc35bc7",
   "metadata": {},
   "outputs": [
    {
     "name": "stdout",
     "output_type": "stream",
     "text": [
      "\n",
      "Classification Report:\n",
      "                            precision    recall  f1-score   support\n",
      "\n",
      "  card_queries_or_issues       0.91      0.90      0.90       537\n",
      "   needs_troubleshooting       0.87      0.90      0.89       887\n",
      "                   other       0.89      0.89      0.89       982\n",
      "top_up_queries_or_issues       0.97      0.90      0.93       329\n",
      "\n",
      "                accuracy                           0.90      2735\n",
      "               macro avg       0.91      0.90      0.90      2735\n",
      "            weighted avg       0.90      0.90      0.90      2735\n",
      "\n"
     ]
    }
   ],
   "source": [
    "#Report\n",
    "\n",
    "print(f'\\nClassification Report:\\n  {classification_report(y_test, y_dt_pred2)}')"
   ]
  },
  {
   "cell_type": "markdown",
   "id": "4228b863",
   "metadata": {},
   "source": [
    "Were:\n",
    "- Accuracy: Measures the percentage of correctly predicted instances over the total number of instances.\n",
    "- Precision: Measures the percentage of correctly predicted instances over the total number of instances that were predicted as positive.\n",
    "- Recall: Measures the percentage of correctly predicted instances over the total number of instances that actually belong to the positive class\n",
    "- F1-score: Is the harmonic mean of precision and recall."
   ]
  },
  {
   "cell_type": "markdown",
   "id": "88a7016c",
   "metadata": {},
   "source": [
    "### Classification using neural networks"
   ]
  },
  {
   "cell_type": "code",
   "execution_count": 153,
   "id": "7fa40a63",
   "metadata": {},
   "outputs": [],
   "source": [
    "from tensorflow.keras.models import Sequential\n",
    "from tensorflow.keras.layers import Dense\n",
    "from keras import layers"
   ]
  },
  {
   "cell_type": "markdown",
   "id": "2f35b4da",
   "metadata": {},
   "source": [
    "Before we build our model, we need to know the input dimension of our feature vectors."
   ]
  },
  {
   "cell_type": "code",
   "execution_count": 154,
   "id": "954926d1",
   "metadata": {},
   "outputs": [
    {
     "data": {
      "text/plain": [
       "2231"
      ]
     },
     "execution_count": 154,
     "metadata": {},
     "output_type": "execute_result"
    }
   ],
   "source": [
    "#specifing the number of input features in the input layer.\n",
    "input_dim = x_train.shape[1]\n",
    "input_dim"
   ]
  },
  {
   "cell_type": "markdown",
   "id": "a0736b44",
   "metadata": {},
   "source": [
    "###### Using One hot encoding we convert our tagerget variable from categorical data into a numerical data so as to use them for neural network model."
   ]
  },
  {
   "cell_type": "code",
   "execution_count": 164,
   "id": "47b21797",
   "metadata": {},
   "outputs": [],
   "source": [
    "y_train = pd.get_dummies(y_train)\n",
    "y_test = pd.get_dummies(y_test)"
   ]
  },
  {
   "cell_type": "code",
   "execution_count": 165,
   "id": "95f83c1c",
   "metadata": {},
   "outputs": [],
   "source": [
    "#Getting the values of our train and test data"
   ]
  },
  {
   "cell_type": "code",
   "execution_count": 166,
   "id": "99a8003c",
   "metadata": {},
   "outputs": [],
   "source": [
    "y_train = y_train.values\n",
    "y_test  = y_test.values"
   ]
  },
  {
   "cell_type": "code",
   "execution_count": 167,
   "id": "1145a2c6",
   "metadata": {
    "scrolled": true
   },
   "outputs": [
    {
     "data": {
      "text/plain": [
       "4"
      ]
     },
     "execution_count": 167,
     "metadata": {},
     "output_type": "execute_result"
    }
   ],
   "source": [
    "#getting the shape of label data\n",
    "y_train.shape[1]"
   ]
  },
  {
   "cell_type": "markdown",
   "id": "f9c6ca1b",
   "metadata": {},
   "source": [
    "### Model Selection"
   ]
  },
  {
   "cell_type": "markdown",
   "id": "d4af4dfe",
   "metadata": {},
   "source": [
    "Since the Sequential model is the most commonly used model in Keras and is suitable for a wide range of deep learning tasks, such as text classification, and others. It is also known for its Simplicity, Speed, easy debugging, and flexibilty.\n",
    "We'll use the Sequential model"
   ]
  },
  {
   "cell_type": "code",
   "execution_count": 168,
   "id": "dc1c9c68",
   "metadata": {},
   "outputs": [],
   "source": [
    "model = Sequential()"
   ]
  },
  {
   "cell_type": "markdown",
   "id": "a48a3ef4",
   "metadata": {},
   "source": [
    "##### Adding Layers/neurons"
   ]
  },
  {
   "cell_type": "code",
   "execution_count": 169,
   "id": "20cb9855",
   "metadata": {},
   "outputs": [],
   "source": [
    "#creating an input layer\n",
    "model.add(layers.Dense(64, input_dim=input_dim, activation='relu'))"
   ]
  },
  {
   "cell_type": "code",
   "execution_count": 170,
   "id": "39ef9ecf",
   "metadata": {},
   "outputs": [],
   "source": [
    "#Adding hidden layer\n",
    "model.add(Dense(32, activation = 'relu'))"
   ]
  },
  {
   "cell_type": "code",
   "execution_count": 171,
   "id": "bd48d0fc",
   "metadata": {},
   "outputs": [],
   "source": [
    "# adding output layer\n",
    "model.add(layers.Dense(4, activation='softmax'))"
   ]
  },
  {
   "cell_type": "code",
   "execution_count": 172,
   "id": "b4b97506",
   "metadata": {},
   "outputs": [],
   "source": [
    "# Compiling model\n",
    "model.compile(loss='categorical_crossentropy', optimizer='adam',  metrics=['accuracy'])"
   ]
  },
  {
   "cell_type": "code",
   "execution_count": 173,
   "id": "77abbaf3",
   "metadata": {},
   "outputs": [],
   "source": [
    "# Training model\n",
    "history = model.fit(x_train, y_train, epochs=10, verbose=False, validation_data=(x_test, y_test), batch_size=10)"
   ]
  },
  {
   "cell_type": "markdown",
   "id": "0406f6ea",
   "metadata": {},
   "source": [
    "#### Evaluating model"
   ]
  },
  {
   "cell_type": "code",
   "execution_count": 174,
   "id": "57e6f378",
   "metadata": {},
   "outputs": [],
   "source": [
    "loss, accuracy = model.evaluate(x_train, y_train, verbose=False)"
   ]
  },
  {
   "cell_type": "code",
   "execution_count": 175,
   "id": "e86b8c8e",
   "metadata": {},
   "outputs": [
    {
     "name": "stdout",
     "output_type": "stream",
     "text": [
      "Training Accuracy: 0.9893043041229248\n"
     ]
    }
   ],
   "source": [
    "print(f\"Training Accuracy: {accuracy}\")"
   ]
  },
  {
   "cell_type": "markdown",
   "id": "3527efb1",
   "metadata": {},
   "source": [
    "From the Above the **accuracy** of our neural network is **99%** which is a good result"
   ]
  },
  {
   "cell_type": "code",
   "execution_count": 176,
   "id": "62556ef3",
   "metadata": {},
   "outputs": [
    {
     "name": "stdout",
     "output_type": "stream",
     "text": [
      "86/86 [==============================] - 0s 2ms/step\n"
     ]
    },
    {
     "data": {
      "text/plain": [
       "array([[ True, False, False, False],\n",
       "       [False, False,  True, False],\n",
       "       [False, False,  True, False],\n",
       "       ...,\n",
       "       [False, False,  True, False],\n",
       "       [False, False, False,  True],\n",
       "       [False, False,  True, False]])"
      ]
     },
     "execution_count": 176,
     "metadata": {},
     "output_type": "execute_result"
    }
   ],
   "source": [
    "y_pred = model.predict(x_test)\n",
    "y_pred = (y_pred>0.5)\n",
    "y_pred"
   ]
  },
  {
   "cell_type": "code",
   "execution_count": 177,
   "id": "a8fada2d",
   "metadata": {
    "scrolled": false
   },
   "outputs": [
    {
     "name": "stdout",
     "output_type": "stream",
     "text": [
      "\n",
      "Classification Report:\n",
      "               precision    recall  f1-score   support\n",
      "\n",
      "           0       0.92      0.91      0.91       537\n",
      "           1       0.90      0.91      0.91       887\n",
      "           2       0.91      0.90      0.91       982\n",
      "           3       0.94      0.92      0.93       329\n",
      "\n",
      "   micro avg       0.91      0.91      0.91      2735\n",
      "   macro avg       0.92      0.91      0.91      2735\n",
      "weighted avg       0.91      0.91      0.91      2735\n",
      " samples avg       0.91      0.91      0.91      2735\n",
      "\n"
     ]
    },
    {
     "name": "stderr",
     "output_type": "stream",
     "text": [
      "C:\\Users\\hp\\anaconda3\\lib\\site-packages\\sklearn\\metrics\\_classification.py:1318: UndefinedMetricWarning: Precision and F-score are ill-defined and being set to 0.0 in samples with no predicted labels. Use `zero_division` parameter to control this behavior.\n",
      "  _warn_prf(average, modifier, msg_start, len(result))\n"
     ]
    }
   ],
   "source": [
    "#Report\n",
    "\n",
    "print('\\nClassification Report:\\n', classification_report(y_test, y_pred))"
   ]
  },
  {
   "cell_type": "code",
   "execution_count": null,
   "id": "2f3c01c7",
   "metadata": {},
   "outputs": [],
   "source": []
  },
  {
   "cell_type": "markdown",
   "id": "c37ccb60",
   "metadata": {},
   "source": [
    "### Visualizing the loss and accuracy for the training data based on the History callback"
   ]
  },
  {
   "cell_type": "code",
   "execution_count": 178,
   "id": "9994079c",
   "metadata": {},
   "outputs": [],
   "source": [
    "import matplotlib.pyplot as plt\n",
    "plt.style.use('ggplot')\n",
    "\n",
    "def plot_history(history):\n",
    "    acc = history.history['accuracy']\n",
    "    loss = history.history['loss']\n",
    "    x = range(1, len(acc) + 1)\n",
    "\n",
    "    plt.figure(figsize=(12, 5))\n",
    "    plt.subplot(1, 2, 1)\n",
    "    plt.plot(x, acc, 'b', label='Training accuarcy')\n",
    "    plt.title('Training accuracy')\n",
    "    plt.legend()\n",
    "    plt.subplot(1, 2, 2)\n",
    "    plt.plot(x, loss, 'r', label='Training loss')\n",
    "    plt.title('Training loss')\n",
    "    plt.legend()"
   ]
  },
  {
   "cell_type": "code",
   "execution_count": 179,
   "id": "89b092b2",
   "metadata": {
    "scrolled": true
   },
   "outputs": [
    {
     "data": {
      "image/png": "[encoded data removed]",
      "text/plain": [
       "<Figure size 864x360 with 2 Axes>"
      ]
     },
     "metadata": {},
     "output_type": "display_data"
    }
   ],
   "source": [
    "plot_history(history)"
   ]
  },
  {
   "cell_type": "markdown",
   "id": "9a9188ac",
   "metadata": {},
   "source": [
    " From the above we that:\n",
    " - In the first subplot, we plot the training accuracy as a blue line against the number of epochs on the x-axis\n",
    " - In the second subplot, we plot the training loss as a red line against the number of epochs on the x-axis"
   ]
  },
  {
   "cell_type": "code",
   "execution_count": 180,
   "id": "a0feed60",
   "metadata": {},
   "outputs": [
    {
     "name": "stdout",
     "output_type": "stream",
     "text": [
      "Model: \"sequential_2\"\n",
      "_________________________________________________________________\n",
      " Layer (type)                Output Shape              Param #   \n",
      "=================================================================\n",
      " dense_6 (Dense)             (None, 64)                142848    \n",
      "                                                                 \n",
      " dense_7 (Dense)             (None, 32)                2080      \n",
      "                                                                 \n",
      " dense_8 (Dense)             (None, 4)                 132       \n",
      "                                                                 \n",
      "=================================================================\n",
      "Total params: 145,060\n",
      "Trainable params: 145,060\n",
      "Non-trainable params: 0\n",
      "_________________________________________________________________\n"
     ]
    }
   ],
   "source": [
    "model.summary()"
   ]
  },
  {
   "cell_type": "markdown",
   "id": "c0944481",
   "metadata": {},
   "source": [
    "From the above notice that we have 142848 parameters for the first layer, 2080 for the second layer and  132 in the third layer. \n",
    "In total we have 145,060 parameters"
   ]
  },
  {
   "cell_type": "markdown",
   "id": "ea236527",
   "metadata": {},
   "source": [
    "### Conclusion"
   ]
  },
  {
   "cell_type": "markdown",
   "id": "728ef3e4",
   "metadata": {},
   "source": [
    "Based on the analysis conducted and evaluation metrics, the neural network model is the best candidate for the text classification task of predicting question topics. The neural network model outperformed both the Multinomial Naive Bayes and Decision Tree Classifier models on both the validation and test sets, indicating its superior performance."
   ]
  },
  {
   "cell_type": "code",
   "execution_count": null,
   "id": "37b1bd08",
   "metadata": {},
   "outputs": [],
   "source": []
  }
 ],
 "metadata": {
  "kernelspec": {
   "display_name": "Python 3 (ipykernel)",
   "language": "python",
   "name": "python3"
  },
  "language_info": {
   "codemirror_mode": {
    "name": "ipython",
    "version": 3
   },
   "file_extension": ".py",
   "mimetype": "text/x-python",
   "name": "python",
   "nbconvert_exporter": "python",
   "pygments_lexer": "ipython3",
   "version": "3.9.12"
  }
 },
 "nbformat": 4,
 "nbformat_minor": 5
}
